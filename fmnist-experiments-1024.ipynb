{
 "cells": [
  {
   "cell_type": "markdown",
   "metadata": {},
   "source": [
    "Deep Learning using Rectified Linear Units\n",
    "===\n",
    "\n",
    "## Overview\n",
    "\n",
    "In this notebook, we explore the performance of a neural net with varying activation functions on an image classification task."
   ]
  },
  {
   "cell_type": "markdown",
   "metadata": {},
   "source": [
    "We load our dependencies."
   ]
  },
  {
   "cell_type": "code",
   "execution_count": 1,
   "metadata": {},
   "outputs": [],
   "source": [
    "from __future__ import absolute_import\n",
    "from __future__ import division\n",
    "from __future__ import print_function\n",
    "\n",
    "__version__ = '1.0.0'\n",
    "__author__ = 'Abien Fred Agarap'\n",
    "\n",
    "import matplotlib.pyplot as plt\n",
    "import numpy as np\n",
    "import tensorflow as tf"
   ]
  },
  {
   "cell_type": "markdown",
   "metadata": {},
   "source": [
    "We set up the GPU memory growth."
   ]
  },
  {
   "cell_type": "code",
   "execution_count": 2,
   "metadata": {},
   "outputs": [],
   "source": [
    "tf.config.experimental.set_memory_growth(tf.config.experimental.list_physical_devices('GPU')[0], True)"
   ]
  },
  {
   "cell_type": "markdown",
   "metadata": {},
   "source": [
    "We set the random seeds for reproducibility."
   ]
  },
  {
   "cell_type": "code",
   "execution_count": 3,
   "metadata": {},
   "outputs": [],
   "source": [
    "np.random.seed(42)\n",
    "tf.random.set_seed(42)"
   ]
  },
  {
   "cell_type": "markdown",
   "metadata": {},
   "source": [
    "## Data Preparation"
   ]
  },
  {
   "cell_type": "markdown",
   "metadata": {},
   "source": [
    "We load the Fashion-MNIST dataset."
   ]
  },
  {
   "cell_type": "code",
   "execution_count": 4,
   "metadata": {},
   "outputs": [],
   "source": [
    "(train_features, train_labels), (test_features, test_labels) = tf.keras.datasets.fashion_mnist.load_data()"
   ]
  },
  {
   "cell_type": "markdown",
   "metadata": {},
   "source": [
    "We scale the images."
   ]
  },
  {
   "cell_type": "code",
   "execution_count": 5,
   "metadata": {},
   "outputs": [],
   "source": [
    "train_features = train_features.astype('float32').reshape(-1, 784) / 255.\n",
    "test_features = test_features.astype('float32').reshape(-1, 784) / 255."
   ]
  },
  {
   "cell_type": "markdown",
   "metadata": {},
   "source": [
    "We one-hot encode labels."
   ]
  },
  {
   "cell_type": "code",
   "execution_count": 6,
   "metadata": {},
   "outputs": [],
   "source": [
    "train_labels = tf.one_hot(train_labels, 10)\n",
    "test_labels = tf.one_hot(test_labels, 10)"
   ]
  },
  {
   "cell_type": "markdown",
   "metadata": {},
   "source": [
    "We create a `tf.data.Dataset` object for the training dataset."
   ]
  },
  {
   "cell_type": "code",
   "execution_count": 7,
   "metadata": {},
   "outputs": [
    {
     "name": "stderr",
     "output_type": "stream",
     "text": [
      "WARNING: Logging before flag parsing goes to stderr.\n",
      "W0725 13:06:43.540204 140681290278720 deprecation.py:323] From /home/darth/tf2/lib/python3.6/site-packages/tensorflow/python/data/util/random_seed.py:58: add_dispatch_support.<locals>.wrapper (from tensorflow.python.ops.array_ops) is deprecated and will be removed in a future version.\n",
      "Instructions for updating:\n",
      "Use tf.where in 2.0, which has the same broadcast rule as np.where\n"
     ]
    }
   ],
   "source": [
    "dataset = tf.data.Dataset.from_tensor_slices((train_features, train_labels))\n",
    "dataset = dataset.prefetch(4096).shuffle(2048).batch(1024, True)"
   ]
  },
  {
   "cell_type": "markdown",
   "metadata": {},
   "source": [
    "## Model"
   ]
  },
  {
   "cell_type": "markdown",
   "metadata": {},
   "source": [
    "We write a `NeuralNet` class that consists of two hidden layers."
   ]
  },
  {
   "cell_type": "code",
   "execution_count": 8,
   "metadata": {},
   "outputs": [],
   "source": [
    "class NeuralNet(tf.keras.Model):\n",
    "    def __init__(self, **kwargs):\n",
    "        super(NeuralNet, self).__init__()\n",
    "        self.hidden_layer_1 = tf.keras.layers.Dense(units=kwargs['units'][0], activation=kwargs['activation'])\n",
    "        self.hidden_layer_2 = tf.keras.layers.Dense(units=kwargs['units'][1], activation=kwargs['activation'])\n",
    "        self.output_layer = tf.keras.layers.Dense(units=kwargs['num_classes'])\n",
    "        self.optimizer = tf.optimizers.SGD(learning_rate=3e-4, momentum=9e-1)\n",
    "    \n",
    "    @tf.function\n",
    "    def call(self, features):\n",
    "        activation = self.hidden_layer_1(features)\n",
    "        activation = self.hidden_layer_2(activation)\n",
    "        output = self.output_layer(activation)\n",
    "        return output"
   ]
  },
  {
   "cell_type": "markdown",
   "metadata": {},
   "source": [
    "We define our loss function."
   ]
  },
  {
   "cell_type": "code",
   "execution_count": 9,
   "metadata": {},
   "outputs": [],
   "source": [
    "def loss_fn(logits, labels):\n",
    "    softmax_loss = tf.nn.softmax_cross_entropy_with_logits(logits=logits, labels=labels)\n",
    "    return tf.reduce_mean(softmax_loss)"
   ]
  },
  {
   "cell_type": "markdown",
   "metadata": {},
   "source": [
    "We define a function for a training step."
   ]
  },
  {
   "cell_type": "code",
   "execution_count": 10,
   "metadata": {},
   "outputs": [],
   "source": [
    "def train_step(model, loss, features, labels):\n",
    "    with tf.GradientTape() as tape:\n",
    "        logits = model(features)\n",
    "        train_loss = loss(logits=logits, labels=labels)\n",
    "    gradients = tape.gradient(train_loss, model.trainable_variables)\n",
    "    model.optimizer.apply_gradients(zip(gradients, model.trainable_variables))\n",
    "    return train_loss"
   ]
  },
  {
   "cell_type": "markdown",
   "metadata": {},
   "source": [
    "We define a training function."
   ]
  },
  {
   "cell_type": "code",
   "execution_count": 11,
   "metadata": {},
   "outputs": [],
   "source": [
    "def train(model, loss_fn, dataset, epochs):\n",
    "    epoch_accuracy = []\n",
    "    epoch_loss = []\n",
    "    for epoch in range(epochs):\n",
    "        train_accuracy = []\n",
    "        train_loss = 0\n",
    "        for batch_features, batch_labels in dataset:\n",
    "            batch_features += tf.random.normal(stddev=(1. / (1. + epoch)**0.55), shape=batch_features.shape)\n",
    "            loss = train_step(model, loss_fn, batch_features, batch_labels)\n",
    "            \n",
    "            accuracy = tf.metrics.Accuracy()\n",
    "            predictions = tf.nn.softmax(model(batch_features))\n",
    "            accuracy(tf.argmax(predictions, 1), tf.argmax(batch_labels, 1))\n",
    "            \n",
    "            train_loss += loss\n",
    "            train_accuracy.append(accuracy.result())\n",
    "        \n",
    "        epoch_loss.append(tf.reduce_mean(train_loss))\n",
    "        epoch_accuracy.append(tf.reduce_mean(train_accuracy))\n",
    "        \n",
    "        if (epoch != 0) and ((epoch + 1) % 50 == 0):\n",
    "            print('epoch {}/{} : mean loss = {}, mean accuracy = {}'.format(epoch + 1,\n",
    "                                                                            epochs,\n",
    "                                                                            tf.reduce_mean(train_loss),\n",
    "                                                                            tf.reduce_mean(train_accuracy)))\n",
    "    return epoch_accuracy, epoch_loss"
   ]
  },
  {
   "cell_type": "markdown",
   "metadata": {},
   "source": [
    "### Logistic-based Model\n",
    "\n",
    "We define a 2-layer NN with Logistic activation function."
   ]
  },
  {
   "cell_type": "code",
   "execution_count": 12,
   "metadata": {},
   "outputs": [],
   "source": [
    "model = NeuralNet(units=[512, 512], activation=tf.nn.sigmoid, num_classes=10)"
   ]
  },
  {
   "cell_type": "markdown",
   "metadata": {},
   "source": [
    "We train our model for 300 epochs."
   ]
  },
  {
   "cell_type": "code",
   "execution_count": 13,
   "metadata": {},
   "outputs": [
    {
     "name": "stdout",
     "output_type": "stream",
     "text": [
      "epoch 50/300 : mean loss = 112.9628677368164, mean accuracy = 0.5932280421257019\n",
      "epoch 100/300 : mean loss = 81.30236053466797, mean accuracy = 0.6398168206214905\n",
      "epoch 150/300 : mean loss = 64.64044952392578, mean accuracy = 0.6774986386299133\n",
      "epoch 200/300 : mean loss = 55.815338134765625, mean accuracy = 0.705195963382721\n",
      "epoch 250/300 : mean loss = 50.09933090209961, mean accuracy = 0.7223868370056152\n",
      "epoch 300/300 : mean loss = 46.04240417480469, mean accuracy = 0.7338362336158752\n"
     ]
    }
   ],
   "source": [
    "logistic_performance = train(model, loss_fn, dataset, epochs=300)"
   ]
  },
  {
   "cell_type": "markdown",
   "metadata": {},
   "source": [
    "We produce predictions for the test data."
   ]
  },
  {
   "cell_type": "code",
   "execution_count": 14,
   "metadata": {},
   "outputs": [],
   "source": [
    "predictions = tf.nn.softmax(model(test_features))"
   ]
  },
  {
   "cell_type": "markdown",
   "metadata": {},
   "source": [
    "We compute the test accuracy."
   ]
  },
  {
   "cell_type": "code",
   "execution_count": 15,
   "metadata": {},
   "outputs": [],
   "source": [
    "accuracy = tf.metrics.Accuracy()\n",
    "test_accuracy = accuracy(tf.argmax(predictions, 1), tf.argmax(test_labels, 1))"
   ]
  },
  {
   "cell_type": "markdown",
   "metadata": {},
   "source": [
    "Check for the test accuracy."
   ]
  },
  {
   "cell_type": "code",
   "execution_count": 16,
   "metadata": {},
   "outputs": [
    {
     "name": "stdout",
     "output_type": "stream",
     "text": [
      "Test accuracy : 0.7261000275611877\n"
     ]
    }
   ],
   "source": [
    "print('Test accuracy : {}'.format(test_accuracy.numpy()))"
   ]
  },
  {
   "cell_type": "markdown",
   "metadata": {},
   "source": [
    "### TanH-based Model\n",
    "\n",
    "We define a 2-layer NN with Hyperbolic Tangent activation function."
   ]
  },
  {
   "cell_type": "code",
   "execution_count": 17,
   "metadata": {},
   "outputs": [],
   "source": [
    "model = NeuralNet(units=[512, 512], activation=tf.nn.tanh, num_classes=10)"
   ]
  },
  {
   "cell_type": "markdown",
   "metadata": {},
   "source": [
    "We train our model for 300 epochs."
   ]
  },
  {
   "cell_type": "code",
   "execution_count": 18,
   "metadata": {},
   "outputs": [
    {
     "name": "stdout",
     "output_type": "stream",
     "text": [
      "epoch 50/300 : mean loss = 32.855777740478516, mean accuracy = 0.8076339960098267\n",
      "epoch 100/300 : mean loss = 28.219486236572266, mean accuracy = 0.8318628668785095\n",
      "epoch 150/300 : mean loss = 26.208393096923828, mean accuracy = 0.843110203742981\n",
      "epoch 200/300 : mean loss = 25.041301727294922, mean accuracy = 0.8493736386299133\n",
      "epoch 250/300 : mean loss = 24.183622360229492, mean accuracy = 0.8539365530014038\n",
      "epoch 300/300 : mean loss = 23.523969650268555, mean accuracy = 0.8581795692443848\n"
     ]
    }
   ],
   "source": [
    "tanh_performance = train(model, loss_fn, dataset, epochs=300)"
   ]
  },
  {
   "cell_type": "markdown",
   "metadata": {},
   "source": [
    "We produce predictions for the test data."
   ]
  },
  {
   "cell_type": "code",
   "execution_count": 19,
   "metadata": {},
   "outputs": [],
   "source": [
    "predictions = tf.nn.softmax(model(test_features))"
   ]
  },
  {
   "cell_type": "markdown",
   "metadata": {},
   "source": [
    "We compute the test accuracy."
   ]
  },
  {
   "cell_type": "code",
   "execution_count": 20,
   "metadata": {},
   "outputs": [],
   "source": [
    "accuracy = tf.metrics.Accuracy()\n",
    "test_accuracy = accuracy(tf.argmax(predictions, 1), tf.argmax(test_labels, 1))"
   ]
  },
  {
   "cell_type": "markdown",
   "metadata": {},
   "source": [
    "Check for the test accuracy."
   ]
  },
  {
   "cell_type": "code",
   "execution_count": 21,
   "metadata": {},
   "outputs": [
    {
     "name": "stdout",
     "output_type": "stream",
     "text": [
      "Test accuracy : 0.8434000015258789\n"
     ]
    }
   ],
   "source": [
    "print('Test accuracy : {}'.format(test_accuracy.numpy()))"
   ]
  },
  {
   "cell_type": "markdown",
   "metadata": {},
   "source": [
    "### ReLU-based Model\n",
    "\n",
    "We define a 2-layer NN with ReLU activation function."
   ]
  },
  {
   "cell_type": "code",
   "execution_count": 22,
   "metadata": {},
   "outputs": [],
   "source": [
    "model = NeuralNet(units=[512, 512], activation=tf.nn.relu, num_classes=10)"
   ]
  },
  {
   "cell_type": "markdown",
   "metadata": {},
   "source": [
    "We train our model for 300 epochs."
   ]
  },
  {
   "cell_type": "code",
   "execution_count": 23,
   "metadata": {},
   "outputs": [
    {
     "name": "stdout",
     "output_type": "stream",
     "text": [
      "epoch 50/300 : mean loss = 34.0948371887207, mean accuracy = 0.8033068180084229\n",
      "epoch 100/300 : mean loss = 28.614391326904297, mean accuracy = 0.831660807132721\n",
      "epoch 150/300 : mean loss = 26.26633644104004, mean accuracy = 0.8440362215042114\n",
      "epoch 200/300 : mean loss = 24.79923439025879, mean accuracy = 0.8518655896186829\n",
      "epoch 250/300 : mean loss = 23.715774536132812, mean accuracy = 0.8578091263771057\n",
      "epoch 300/300 : mean loss = 22.876754760742188, mean accuracy = 0.8630960583686829\n"
     ]
    }
   ],
   "source": [
    "relu_performance = train(model, loss_fn, dataset, epochs=300)"
   ]
  },
  {
   "cell_type": "markdown",
   "metadata": {},
   "source": [
    "We produce predictions for the test data."
   ]
  },
  {
   "cell_type": "code",
   "execution_count": 24,
   "metadata": {},
   "outputs": [],
   "source": [
    "predictions = tf.nn.softmax(model(test_features))"
   ]
  },
  {
   "cell_type": "markdown",
   "metadata": {},
   "source": [
    "We compute the test accuracy."
   ]
  },
  {
   "cell_type": "code",
   "execution_count": 25,
   "metadata": {},
   "outputs": [],
   "source": [
    "accuracy = tf.metrics.Accuracy()\n",
    "test_accuracy = accuracy(tf.argmax(predictions, 1), tf.argmax(test_labels, 1))"
   ]
  },
  {
   "cell_type": "markdown",
   "metadata": {},
   "source": [
    "Check for the test accuracy."
   ]
  },
  {
   "cell_type": "code",
   "execution_count": 26,
   "metadata": {},
   "outputs": [
    {
     "name": "stdout",
     "output_type": "stream",
     "text": [
      "Test accuracy : 0.8496000170707703\n"
     ]
    }
   ],
   "source": [
    "print('Test accuracy : {}'.format(test_accuracy.numpy()))"
   ]
  },
  {
   "cell_type": "markdown",
   "metadata": {},
   "source": [
    "### Leaky ReLU-based Model\n",
    "\n",
    "We define a 2-layer NN with Leaky ReLU activation function."
   ]
  },
  {
   "cell_type": "code",
   "execution_count": 27,
   "metadata": {},
   "outputs": [],
   "source": [
    "model = NeuralNet(units=[512, 512], activation=tf.nn.leaky_relu, num_classes=10)"
   ]
  },
  {
   "cell_type": "markdown",
   "metadata": {},
   "source": [
    "We train our model for 300 epochs."
   ]
  },
  {
   "cell_type": "code",
   "execution_count": 28,
   "metadata": {},
   "outputs": [
    {
     "name": "stdout",
     "output_type": "stream",
     "text": [
      "epoch 50/300 : mean loss = 34.07756423950195, mean accuracy = 0.8051925897598267\n",
      "epoch 100/300 : mean loss = 28.698339462280273, mean accuracy = 0.8324521780014038\n",
      "epoch 150/300 : mean loss = 26.430431365966797, mean accuracy = 0.8433122038841248\n",
      "epoch 200/300 : mean loss = 25.08307647705078, mean accuracy = 0.8508216738700867\n",
      "epoch 250/300 : mean loss = 24.059534072875977, mean accuracy = 0.8567484021186829\n",
      "epoch 300/300 : mean loss = 23.28445816040039, mean accuracy = 0.8619005680084229\n"
     ]
    }
   ],
   "source": [
    "lrelu_performance = train(model, loss_fn, dataset, epochs=300)"
   ]
  },
  {
   "cell_type": "markdown",
   "metadata": {},
   "source": [
    "We produce predictions for the test data."
   ]
  },
  {
   "cell_type": "code",
   "execution_count": 29,
   "metadata": {},
   "outputs": [],
   "source": [
    "predictions = tf.nn.softmax(model(test_features))"
   ]
  },
  {
   "cell_type": "markdown",
   "metadata": {},
   "source": [
    "We compute the test accuracy."
   ]
  },
  {
   "cell_type": "code",
   "execution_count": 30,
   "metadata": {},
   "outputs": [],
   "source": [
    "accuracy = tf.metrics.Accuracy()\n",
    "test_accuracy = accuracy(tf.argmax(predictions, 1), tf.argmax(test_labels, 1))"
   ]
  },
  {
   "cell_type": "markdown",
   "metadata": {},
   "source": [
    "Check for the test accuracy."
   ]
  },
  {
   "cell_type": "code",
   "execution_count": 31,
   "metadata": {},
   "outputs": [
    {
     "name": "stdout",
     "output_type": "stream",
     "text": [
      "Test accuracy : 0.8457000255584717\n"
     ]
    }
   ],
   "source": [
    "print('Test accuracy : {}'.format(test_accuracy.numpy()))"
   ]
  },
  {
   "cell_type": "markdown",
   "metadata": {},
   "source": [
    "### Softplus-based Model\n",
    "\n",
    "We define a 2-layer NN with Softplus activation function."
   ]
  },
  {
   "cell_type": "code",
   "execution_count": 32,
   "metadata": {},
   "outputs": [],
   "source": [
    "model = NeuralNet(units=[512, 512], activation=tf.nn.softplus, num_classes=10)"
   ]
  },
  {
   "cell_type": "markdown",
   "metadata": {},
   "source": [
    "We train our model for 300 epochs."
   ]
  },
  {
   "cell_type": "code",
   "execution_count": 33,
   "metadata": {},
   "outputs": [
    {
     "name": "stdout",
     "output_type": "stream",
     "text": [
      "epoch 50/300 : mean loss = 38.70722961425781, mean accuracy = 0.7691439986228943\n",
      "epoch 100/300 : mean loss = 32.496585845947266, mean accuracy = 0.8049905896186829\n",
      "epoch 150/300 : mean loss = 29.814512252807617, mean accuracy = 0.8215584754943848\n",
      "epoch 200/300 : mean loss = 28.277679443359375, mean accuracy = 0.8318460583686829\n",
      "epoch 250/300 : mean loss = 27.200496673583984, mean accuracy = 0.8379243016242981\n",
      "epoch 300/300 : mean loss = 26.445693969726562, mean accuracy = 0.8428407907485962\n"
     ]
    }
   ],
   "source": [
    "softplus_performance = train(model, loss_fn, dataset, epochs=300)"
   ]
  },
  {
   "cell_type": "markdown",
   "metadata": {},
   "source": [
    "We produce predictions for the test data."
   ]
  },
  {
   "cell_type": "code",
   "execution_count": 34,
   "metadata": {},
   "outputs": [],
   "source": [
    "predictions = tf.nn.softmax(model(test_features))"
   ]
  },
  {
   "cell_type": "markdown",
   "metadata": {},
   "source": [
    "We compute the test accuracy."
   ]
  },
  {
   "cell_type": "code",
   "execution_count": 35,
   "metadata": {},
   "outputs": [],
   "source": [
    "accuracy = tf.metrics.Accuracy()\n",
    "test_accuracy = accuracy(tf.argmax(predictions, 1), tf.argmax(test_labels, 1))"
   ]
  },
  {
   "cell_type": "markdown",
   "metadata": {},
   "source": [
    "Check for the test accuracy."
   ]
  },
  {
   "cell_type": "code",
   "execution_count": 36,
   "metadata": {},
   "outputs": [
    {
     "name": "stdout",
     "output_type": "stream",
     "text": [
      "Test accuracy : 0.829200029373169\n"
     ]
    }
   ],
   "source": [
    "print('Test accuracy : {}'.format(test_accuracy.numpy()))"
   ]
  },
  {
   "cell_type": "markdown",
   "metadata": {},
   "source": [
    "### ELU-based Model\n",
    "\n",
    "We define a 2-layer NN with ELU activation function."
   ]
  },
  {
   "cell_type": "code",
   "execution_count": 37,
   "metadata": {},
   "outputs": [],
   "source": [
    "model = NeuralNet(units=[512, 512], activation=tf.nn.elu, num_classes=10)"
   ]
  },
  {
   "cell_type": "markdown",
   "metadata": {},
   "source": [
    "We train our model for 300 epochs."
   ]
  },
  {
   "cell_type": "code",
   "execution_count": 38,
   "metadata": {},
   "outputs": [
    {
     "name": "stdout",
     "output_type": "stream",
     "text": [
      "epoch 50/300 : mean loss = 32.33451843261719, mean accuracy = 0.812163233757019\n",
      "epoch 100/300 : mean loss = 28.176345825195312, mean accuracy = 0.832637369632721\n",
      "epoch 150/300 : mean loss = 26.337779998779297, mean accuracy = 0.8423525094985962\n",
      "epoch 200/300 : mean loss = 25.218141555786133, mean accuracy = 0.8487169742584229\n",
      "epoch 250/300 : mean loss = 24.435089111328125, mean accuracy = 0.8527579307556152\n",
      "epoch 300/300 : mean loss = 23.81833267211914, mean accuracy = 0.8574050664901733\n"
     ]
    }
   ],
   "source": [
    "elu_performance = train(model, loss_fn, dataset, epochs=300)"
   ]
  },
  {
   "cell_type": "markdown",
   "metadata": {},
   "source": [
    "We produce predictions for the test data."
   ]
  },
  {
   "cell_type": "code",
   "execution_count": 39,
   "metadata": {},
   "outputs": [],
   "source": [
    "predictions = tf.nn.softmax(model(test_features))"
   ]
  },
  {
   "cell_type": "markdown",
   "metadata": {},
   "source": [
    "We compute the test accuracy."
   ]
  },
  {
   "cell_type": "code",
   "execution_count": 40,
   "metadata": {},
   "outputs": [],
   "source": [
    "accuracy = tf.metrics.Accuracy()\n",
    "test_accuracy = accuracy(tf.argmax(predictions, 1), tf.argmax(test_labels, 1))"
   ]
  },
  {
   "cell_type": "markdown",
   "metadata": {},
   "source": [
    "Check for the test accuracy."
   ]
  },
  {
   "cell_type": "code",
   "execution_count": 41,
   "metadata": {},
   "outputs": [
    {
     "name": "stdout",
     "output_type": "stream",
     "text": [
      "Test accuracy : 0.840399980545044\n"
     ]
    }
   ],
   "source": [
    "print('Test accuracy : {}'.format(test_accuracy.numpy()))"
   ]
  },
  {
   "cell_type": "markdown",
   "metadata": {},
   "source": [
    "## Training Performance\n",
    "\n",
    "We lay down the training performance of each model."
   ]
  },
  {
   "cell_type": "code",
   "execution_count": 43,
   "metadata": {},
   "outputs": [
    {
     "data": {
      "image/png": "[encoded data removed]",
      "text/plain": [
       "<Figure size 1152x576 with 2 Axes>"
      ]
     },
     "metadata": {
      "needs_background": "light"
     },
     "output_type": "display_data"
    }
   ],
   "source": [
    "plt.figure(figsize=(16, 8))\n",
    "plt.rcParams.update({'font.size': 14})\n",
    "\n",
    "plt.subplot(121)\n",
    "plt.plot(range(len(logistic_performance[0])), logistic_performance[0], label='logistic')\n",
    "plt.plot(range(len(tanh_performance[0])), tanh_performance[0], label='tanh')\n",
    "plt.plot(range(len(relu_performance[0])), relu_performance[0], label='relu')\n",
    "plt.plot(range(len(lrelu_performance[0])), lrelu_performance[0], label='leaky_relu')\n",
    "plt.plot(range(len(softplus_performance[0])), softplus_performance[0], label='softplus')\n",
    "plt.plot(range(len(elu_performance[0])), elu_performance[0], label='elu')\n",
    "plt.xlabel('epochs')\n",
    "plt.ylabel('train accuracy')\n",
    "plt.legend(loc='lower right')\n",
    "plt.grid()\n",
    "\n",
    "plt.subplot(122)\n",
    "plt.plot(range(len(logistic_performance[1])), logistic_performance[1], label='logistic')\n",
    "plt.plot(range(len(tanh_performance[1])), tanh_performance[1], label='tanh')\n",
    "plt.plot(range(len(relu_performance[1])), relu_performance[1], label='relu')\n",
    "plt.plot(range(len(lrelu_performance[1])), lrelu_performance[1], label='leaky_relu')\n",
    "plt.plot(range(len(softplus_performance[1])), softplus_performance[1], label='softplus')\n",
    "plt.plot(range(len(elu_performance[1])), elu_performance[1], label='elu')\n",
    "plt.xlabel('epochs')\n",
    "plt.ylabel('train loss')\n",
    "plt.legend(loc='upper right')\n",
    "plt.grid()\n",
    "\n",
    "plt.savefig('fmnist_performance-1024.png', dpi=300)\n",
    "plt.show()"
   ]
  }
 ],
 "metadata": {
  "kernelspec": {
   "display_name": "Python 3",
   "language": "python",
   "name": "python3"
  },
  "language_info": {
   "codemirror_mode": {
    "name": "ipython",
    "version": 3
   },
   "file_extension": ".py",
   "mimetype": "text/x-python",
   "name": "python",
   "nbconvert_exporter": "python",
   "pygments_lexer": "ipython3",
   "version": "3.6.7"
  }
 },
 "nbformat": 4,
 "nbformat_minor": 2
}
