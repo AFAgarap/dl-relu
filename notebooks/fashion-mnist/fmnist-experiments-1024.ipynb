{
 "cells": [
  {
   "cell_type": "markdown",
   "metadata": {},
   "source": [
    "Deep Learning using Rectified Linear Units\n",
    "===\n",
    "\n",
    "## Overview\n",
    "\n",
    "In this notebook, we explore the performance of a neural net with varying activation functions on an image classification task."
   ]
  },
  {
   "cell_type": "markdown",
   "metadata": {},
   "source": [
    "We load our dependencies."
   ]
  },
  {
   "cell_type": "code",
   "execution_count": 1,
   "metadata": {},
   "outputs": [],
   "source": [
    "from __future__ import absolute_import\n",
    "from __future__ import division\n",
    "from __future__ import print_function\n",
    "\n",
    "__version__ = '1.0.0'\n",
    "__author__ = 'Abien Fred Agarap'\n",
    "\n",
    "import matplotlib.pyplot as plt\n",
    "import numpy as np\n",
    "import seaborn as sns\n",
    "import tensorflow as tf"
   ]
  },
  {
   "cell_type": "markdown",
   "metadata": {},
   "source": [
    "We set up the GPU memory growth."
   ]
  },
  {
   "cell_type": "code",
   "execution_count": 2,
   "metadata": {},
   "outputs": [],
   "source": [
    "tf.config.experimental.set_memory_growth(tf.config.experimental.list_physical_devices('GPU')[0], True)"
   ]
  },
  {
   "cell_type": "markdown",
   "metadata": {},
   "source": [
    "We set the random seeds for reproducibility."
   ]
  },
  {
   "cell_type": "code",
   "execution_count": 3,
   "metadata": {},
   "outputs": [],
   "source": [
    "np.random.seed(42)\n",
    "tf.random.set_seed(42)"
   ]
  },
  {
   "cell_type": "markdown",
   "metadata": {},
   "source": [
    "We set the batch size, the number of epochs, and the number of units per layer."
   ]
  },
  {
   "cell_type": "code",
   "execution_count": 4,
   "metadata": {},
   "outputs": [],
   "source": [
    "batch_size = 1024\n",
    "epochs = 300\n",
    "neurons = [512, 512]"
   ]
  },
  {
   "cell_type": "markdown",
   "metadata": {},
   "source": [
    "## Data Preparation"
   ]
  },
  {
   "cell_type": "markdown",
   "metadata": {},
   "source": [
    "We load the Fashion-MNIST dataset."
   ]
  },
  {
   "cell_type": "code",
   "execution_count": 5,
   "metadata": {},
   "outputs": [],
   "source": [
    "(train_features, train_labels), (test_features, test_labels) = tf.keras.datasets.fashion_mnist.load_data()"
   ]
  },
  {
   "cell_type": "markdown",
   "metadata": {},
   "source": [
    "We scale the images."
   ]
  },
  {
   "cell_type": "code",
   "execution_count": 6,
   "metadata": {},
   "outputs": [],
   "source": [
    "train_features = train_features.astype('float32').reshape(-1, 784) / 255.\n",
    "test_features = test_features.astype('float32').reshape(-1, 784) / 255."
   ]
  },
  {
   "cell_type": "markdown",
   "metadata": {},
   "source": [
    "We one-hot encode labels."
   ]
  },
  {
   "cell_type": "code",
   "execution_count": 7,
   "metadata": {},
   "outputs": [],
   "source": [
    "train_labels = tf.one_hot(train_labels, 10)\n",
    "test_labels = tf.one_hot(test_labels, 10)"
   ]
  },
  {
   "cell_type": "markdown",
   "metadata": {},
   "source": [
    "We create a `tf.data.Dataset` object for the training dataset."
   ]
  },
  {
   "cell_type": "code",
   "execution_count": 8,
   "metadata": {},
   "outputs": [],
   "source": [
    "dataset = tf.data.Dataset.from_tensor_slices((train_features, train_labels))\n",
    "dataset = dataset.prefetch(4096).shuffle(2048).batch(batch_size, True)"
   ]
  },
  {
   "cell_type": "markdown",
   "metadata": {},
   "source": [
    "## Model"
   ]
  },
  {
   "cell_type": "markdown",
   "metadata": {},
   "source": [
    "We write a `NeuralNet` class that consists of two hidden layers."
   ]
  },
  {
   "cell_type": "code",
   "execution_count": 9,
   "metadata": {},
   "outputs": [],
   "source": [
    "class NeuralNet(tf.keras.Model):\n",
    "    def __init__(self, **kwargs):\n",
    "        super(NeuralNet, self).__init__()\n",
    "        self.hidden_layer_1 = tf.keras.layers.Dense(\n",
    "            units=kwargs['units'][0],\n",
    "            activation=kwargs['activation'],\n",
    "            kernel_initializer=kwargs['initializer']\n",
    "        )\n",
    "        self.hidden_layer_2 = tf.keras.layers.Dense(\n",
    "            units=kwargs['units'][1],\n",
    "            activation=kwargs['activation'],\n",
    "            kernel_initializer=kwargs['initializer']\n",
    "        )\n",
    "        self.output_layer = tf.keras.layers.Dense(units=kwargs['num_classes'])\n",
    "        self.optimizer = tf.optimizers.SGD(learning_rate=3e-4, momentum=9e-1)\n",
    "    \n",
    "    @tf.function\n",
    "    def call(self, features):\n",
    "        activation = self.hidden_layer_1(features)\n",
    "        activation = self.hidden_layer_2(activation)\n",
    "        output = self.output_layer(activation)\n",
    "        return output"
   ]
  },
  {
   "cell_type": "markdown",
   "metadata": {},
   "source": [
    "We define our loss function."
   ]
  },
  {
   "cell_type": "code",
   "execution_count": 10,
   "metadata": {},
   "outputs": [],
   "source": [
    "def loss_fn(logits, labels):\n",
    "    softmax_loss = tf.nn.softmax_cross_entropy_with_logits(logits=logits, labels=labels)\n",
    "    return tf.reduce_mean(softmax_loss)"
   ]
  },
  {
   "cell_type": "markdown",
   "metadata": {},
   "source": [
    "We define a function for a training step."
   ]
  },
  {
   "cell_type": "code",
   "execution_count": 11,
   "metadata": {},
   "outputs": [],
   "source": [
    "def train_step(model, loss, features, labels):\n",
    "    with tf.GradientTape() as tape:\n",
    "        logits = model(features)\n",
    "        train_loss = loss(logits=logits, labels=labels)\n",
    "    gradients = tape.gradient(train_loss, model.trainable_variables)\n",
    "    model.optimizer.apply_gradients(zip(gradients, model.trainable_variables))\n",
    "    return train_loss"
   ]
  },
  {
   "cell_type": "markdown",
   "metadata": {},
   "source": [
    "We define a training function."
   ]
  },
  {
   "cell_type": "code",
   "execution_count": 12,
   "metadata": {},
   "outputs": [],
   "source": [
    "def train(model, loss_fn, dataset, epochs):\n",
    "    epoch_accuracy = []\n",
    "    epoch_loss = []\n",
    "    for epoch in range(epochs):\n",
    "        train_accuracy = []\n",
    "        train_loss = 0\n",
    "        for batch_features, batch_labels in dataset:\n",
    "            batch_features += tf.random.normal(stddev=(1. / (1. + epoch)**0.55), shape=batch_features.shape)\n",
    "            loss = train_step(model, loss_fn, batch_features, batch_labels)\n",
    "            \n",
    "            accuracy = tf.metrics.Accuracy()\n",
    "            predictions = tf.nn.softmax(model(batch_features))\n",
    "            accuracy(tf.argmax(predictions, 1), tf.argmax(batch_labels, 1))\n",
    "            \n",
    "            train_loss += loss\n",
    "            train_accuracy.append(accuracy.result())\n",
    "        \n",
    "        epoch_loss.append(tf.reduce_mean(train_loss))\n",
    "        epoch_accuracy.append(tf.reduce_mean(train_accuracy))\n",
    "        \n",
    "        if (epoch != 0) and ((epoch + 1) % 50 == 0):\n",
    "            print('epoch {}/{} : mean loss = {}, mean accuracy = {}'.format(epoch + 1,\n",
    "                                                                            epochs,\n",
    "                                                                            tf.reduce_mean(train_loss),\n",
    "                                                                            tf.reduce_mean(train_accuracy)))\n",
    "    return epoch_accuracy, epoch_loss"
   ]
  },
  {
   "cell_type": "markdown",
   "metadata": {},
   "source": [
    "### Logistic-based Model\n",
    "\n",
    "We define a 2-layer NN with Logistic activation function."
   ]
  },
  {
   "cell_type": "code",
   "execution_count": 13,
   "metadata": {},
   "outputs": [],
   "source": [
    "model = NeuralNet(\n",
    "    units=neurons,\n",
    "    activation=tf.nn.sigmoid,\n",
    "    initializer='glorot_uniform',\n",
    "    num_classes=10\n",
    ")"
   ]
  },
  {
   "cell_type": "markdown",
   "metadata": {},
   "source": [
    "We train our model for 300 epochs."
   ]
  },
  {
   "cell_type": "code",
   "execution_count": 14,
   "metadata": {},
   "outputs": [
    {
     "name": "stdout",
     "output_type": "stream",
     "text": [
      "epoch 50/300 : mean loss = 112.96251678466797, mean accuracy = 0.5909886956214905\n",
      "epoch 100/300 : mean loss = 81.29564666748047, mean accuracy = 0.638554036617279\n",
      "epoch 150/300 : mean loss = 64.67366027832031, mean accuracy = 0.6770777106285095\n",
      "epoch 200/300 : mean loss = 55.834861755371094, mean accuracy = 0.7050276398658752\n",
      "epoch 250/300 : mean loss = 50.10903549194336, mean accuracy = 0.7218648791313171\n",
      "epoch 300/300 : mean loss = 46.06403350830078, mean accuracy = 0.733735203742981\n"
     ]
    }
   ],
   "source": [
    "logistic_performance = train(model, loss_fn, dataset, epochs=epochs)"
   ]
  },
  {
   "cell_type": "markdown",
   "metadata": {},
   "source": [
    "We produce predictions for the test data."
   ]
  },
  {
   "cell_type": "code",
   "execution_count": 15,
   "metadata": {},
   "outputs": [],
   "source": [
    "predictions = tf.nn.softmax(model(test_features))"
   ]
  },
  {
   "cell_type": "markdown",
   "metadata": {},
   "source": [
    "We compute the test accuracy."
   ]
  },
  {
   "cell_type": "code",
   "execution_count": 16,
   "metadata": {},
   "outputs": [],
   "source": [
    "accuracy = tf.metrics.Accuracy()\n",
    "test_accuracy = accuracy(tf.argmax(predictions, 1), tf.argmax(test_labels, 1))"
   ]
  },
  {
   "cell_type": "markdown",
   "metadata": {},
   "source": [
    "Check for the test accuracy."
   ]
  },
  {
   "cell_type": "code",
   "execution_count": 17,
   "metadata": {},
   "outputs": [
    {
     "name": "stdout",
     "output_type": "stream",
     "text": [
      "Test accuracy : 0.7261000275611877\n"
     ]
    }
   ],
   "source": [
    "print('Test accuracy : {}'.format(test_accuracy.numpy()))"
   ]
  },
  {
   "cell_type": "markdown",
   "metadata": {},
   "source": [
    "### TanH-based Model\n",
    "\n",
    "We define a 2-layer NN with Hyperbolic Tangent activation function."
   ]
  },
  {
   "cell_type": "code",
   "execution_count": 18,
   "metadata": {},
   "outputs": [],
   "source": [
    "model = NeuralNet(\n",
    "    units=neurons,\n",
    "    activation=tf.nn.tanh,\n",
    "    initializer='glorot_uniform',\n",
    "    num_classes=10\n",
    ")"
   ]
  },
  {
   "cell_type": "markdown",
   "metadata": {},
   "source": [
    "We train our model for 300 epochs."
   ]
  },
  {
   "cell_type": "code",
   "execution_count": 19,
   "metadata": {},
   "outputs": [
    {
     "name": "stdout",
     "output_type": "stream",
     "text": [
      "epoch 50/300 : mean loss = 32.850181579589844, mean accuracy = 0.8085263967514038\n",
      "epoch 100/300 : mean loss = 28.206607818603516, mean accuracy = 0.8310546875\n",
      "epoch 150/300 : mean loss = 26.22389793395996, mean accuracy = 0.8414937853813171\n",
      "epoch 200/300 : mean loss = 25.05820655822754, mean accuracy = 0.8491379022598267\n",
      "epoch 250/300 : mean loss = 24.178380966186523, mean accuracy = 0.853397786617279\n",
      "epoch 300/300 : mean loss = 23.47045135498047, mean accuracy = 0.8579269647598267\n"
     ]
    }
   ],
   "source": [
    "tanh_performance = train(model, loss_fn, dataset, epochs=epochs)"
   ]
  },
  {
   "cell_type": "markdown",
   "metadata": {},
   "source": [
    "We produce predictions for the test data."
   ]
  },
  {
   "cell_type": "code",
   "execution_count": 20,
   "metadata": {},
   "outputs": [],
   "source": [
    "predictions = tf.nn.softmax(model(test_features))"
   ]
  },
  {
   "cell_type": "markdown",
   "metadata": {},
   "source": [
    "We compute the test accuracy."
   ]
  },
  {
   "cell_type": "code",
   "execution_count": 21,
   "metadata": {},
   "outputs": [],
   "source": [
    "accuracy = tf.metrics.Accuracy()\n",
    "test_accuracy = accuracy(tf.argmax(predictions, 1), tf.argmax(test_labels, 1))"
   ]
  },
  {
   "cell_type": "markdown",
   "metadata": {},
   "source": [
    "Check for the test accuracy."
   ]
  },
  {
   "cell_type": "code",
   "execution_count": 22,
   "metadata": {},
   "outputs": [
    {
     "name": "stdout",
     "output_type": "stream",
     "text": [
      "Test accuracy : 0.843500018119812\n"
     ]
    }
   ],
   "source": [
    "print('Test accuracy : {}'.format(test_accuracy.numpy()))"
   ]
  },
  {
   "cell_type": "markdown",
   "metadata": {},
   "source": [
    "### ReLU-based Model\n",
    "\n",
    "We define a 2-layer NN with ReLU activation function."
   ]
  },
  {
   "cell_type": "code",
   "execution_count": 23,
   "metadata": {},
   "outputs": [],
   "source": [
    "model = NeuralNet(\n",
    "    units=neurons,\n",
    "    activation=tf.nn.relu,\n",
    "    initializer='he_normal',\n",
    "    num_classes=10\n",
    ")"
   ]
  },
  {
   "cell_type": "markdown",
   "metadata": {},
   "source": [
    "We train our model for 300 epochs."
   ]
  },
  {
   "cell_type": "code",
   "execution_count": 24,
   "metadata": {},
   "outputs": [
    {
     "name": "stdout",
     "output_type": "stream",
     "text": [
      "epoch 50/300 : mean loss = 32.64879608154297, mean accuracy = 0.81005859375\n",
      "epoch 100/300 : mean loss = 27.672529220581055, mean accuracy = 0.8370824456214905\n",
      "epoch 150/300 : mean loss = 25.412630081176758, mean accuracy = 0.8491715788841248\n",
      "epoch 200/300 : mean loss = 23.92156982421875, mean accuracy = 0.8571356534957886\n",
      "epoch 250/300 : mean loss = 22.777538299560547, mean accuracy = 0.8654195666313171\n",
      "epoch 300/300 : mean loss = 21.968692779541016, mean accuracy = 0.868534505367279\n"
     ]
    }
   ],
   "source": [
    "relu_performance = train(model, loss_fn, dataset, epochs=epochs)"
   ]
  },
  {
   "cell_type": "markdown",
   "metadata": {},
   "source": [
    "We produce predictions for the test data."
   ]
  },
  {
   "cell_type": "code",
   "execution_count": 25,
   "metadata": {},
   "outputs": [],
   "source": [
    "predictions = tf.nn.softmax(model(test_features))"
   ]
  },
  {
   "cell_type": "markdown",
   "metadata": {},
   "source": [
    "We compute the test accuracy."
   ]
  },
  {
   "cell_type": "code",
   "execution_count": 26,
   "metadata": {},
   "outputs": [],
   "source": [
    "accuracy = tf.metrics.Accuracy()\n",
    "test_accuracy = accuracy(tf.argmax(predictions, 1), tf.argmax(test_labels, 1))"
   ]
  },
  {
   "cell_type": "markdown",
   "metadata": {},
   "source": [
    "Check for the test accuracy."
   ]
  },
  {
   "cell_type": "code",
   "execution_count": 27,
   "metadata": {},
   "outputs": [
    {
     "name": "stdout",
     "output_type": "stream",
     "text": [
      "Test accuracy : 0.8521000146865845\n"
     ]
    }
   ],
   "source": [
    "print('Test accuracy : {}'.format(test_accuracy.numpy()))"
   ]
  },
  {
   "cell_type": "markdown",
   "metadata": {},
   "source": [
    "### Leaky ReLU-based Model\n",
    "\n",
    "We define a 2-layer NN with Leaky ReLU activation function."
   ]
  },
  {
   "cell_type": "code",
   "execution_count": 28,
   "metadata": {},
   "outputs": [],
   "source": [
    "model = NeuralNet(\n",
    "    units=neurons,\n",
    "    activation=tf.nn.leaky_relu,\n",
    "    initializer='he_normal',\n",
    "    num_classes=10\n",
    ")"
   ]
  },
  {
   "cell_type": "markdown",
   "metadata": {},
   "source": [
    "We train our model for 300 epochs."
   ]
  },
  {
   "cell_type": "code",
   "execution_count": 29,
   "metadata": {},
   "outputs": [
    {
     "name": "stdout",
     "output_type": "stream",
     "text": [
      "epoch 50/300 : mean loss = 32.48524856567383, mean accuracy = 0.8092504143714905\n",
      "epoch 100/300 : mean loss = 27.823711395263672, mean accuracy = 0.8356680870056152\n",
      "epoch 150/300 : mean loss = 25.704376220703125, mean accuracy = 0.8470669388771057\n",
      "epoch 200/300 : mean loss = 24.35843849182129, mean accuracy = 0.8554013967514038\n",
      "epoch 250/300 : mean loss = 23.405973434448242, mean accuracy = 0.8613786101341248\n",
      "epoch 300/300 : mean loss = 22.627296447753906, mean accuracy = 0.8656889796257019\n"
     ]
    }
   ],
   "source": [
    "lrelu_performance = train(model, loss_fn, dataset, epochs=epochs)"
   ]
  },
  {
   "cell_type": "markdown",
   "metadata": {},
   "source": [
    "We produce predictions for the test data."
   ]
  },
  {
   "cell_type": "code",
   "execution_count": 30,
   "metadata": {},
   "outputs": [],
   "source": [
    "predictions = tf.nn.softmax(model(test_features))"
   ]
  },
  {
   "cell_type": "markdown",
   "metadata": {},
   "source": [
    "We compute the test accuracy."
   ]
  },
  {
   "cell_type": "code",
   "execution_count": 31,
   "metadata": {},
   "outputs": [],
   "source": [
    "accuracy = tf.metrics.Accuracy()\n",
    "test_accuracy = accuracy(tf.argmax(predictions, 1), tf.argmax(test_labels, 1))"
   ]
  },
  {
   "cell_type": "markdown",
   "metadata": {},
   "source": [
    "Check for the test accuracy."
   ]
  },
  {
   "cell_type": "code",
   "execution_count": 32,
   "metadata": {},
   "outputs": [
    {
     "name": "stdout",
     "output_type": "stream",
     "text": [
      "Test accuracy : 0.8489000201225281\n"
     ]
    }
   ],
   "source": [
    "print('Test accuracy : {}'.format(test_accuracy.numpy()))"
   ]
  },
  {
   "cell_type": "markdown",
   "metadata": {},
   "source": [
    "### Softplus-based Model\n",
    "\n",
    "We define a 2-layer NN with Softplus activation function."
   ]
  },
  {
   "cell_type": "code",
   "execution_count": 33,
   "metadata": {},
   "outputs": [],
   "source": [
    "model = NeuralNet(\n",
    "    units=neurons,\n",
    "    activation=tf.nn.softplus,\n",
    "    initializer='he_normal',\n",
    "    num_classes=10\n",
    ")"
   ]
  },
  {
   "cell_type": "markdown",
   "metadata": {},
   "source": [
    "We train our model for 300 epochs."
   ]
  },
  {
   "cell_type": "code",
   "execution_count": 34,
   "metadata": {},
   "outputs": [
    {
     "name": "stdout",
     "output_type": "stream",
     "text": [
      "epoch 50/300 : mean loss = 36.354644775390625, mean accuracy = 0.7826474905014038\n",
      "epoch 100/300 : mean loss = 31.238855361938477, mean accuracy = 0.8138974905014038\n",
      "epoch 150/300 : mean loss = 28.864168167114258, mean accuracy = 0.8275862336158752\n",
      "epoch 200/300 : mean loss = 27.452871322631836, mean accuracy = 0.8369477391242981\n",
      "epoch 250/300 : mean loss = 26.492555618286133, mean accuracy = 0.8424703478813171\n",
      "epoch 300/300 : mean loss = 25.765352249145508, mean accuracy = 0.8478414416313171\n"
     ]
    }
   ],
   "source": [
    "softplus_performance = train(model, loss_fn, dataset, epochs=epochs)"
   ]
  },
  {
   "cell_type": "markdown",
   "metadata": {},
   "source": [
    "We produce predictions for the test data."
   ]
  },
  {
   "cell_type": "code",
   "execution_count": 35,
   "metadata": {},
   "outputs": [],
   "source": [
    "predictions = tf.nn.softmax(model(test_features))"
   ]
  },
  {
   "cell_type": "markdown",
   "metadata": {},
   "source": [
    "We compute the test accuracy."
   ]
  },
  {
   "cell_type": "code",
   "execution_count": 36,
   "metadata": {},
   "outputs": [],
   "source": [
    "accuracy = tf.metrics.Accuracy()\n",
    "test_accuracy = accuracy(tf.argmax(predictions, 1), tf.argmax(test_labels, 1))"
   ]
  },
  {
   "cell_type": "markdown",
   "metadata": {},
   "source": [
    "Check for the test accuracy."
   ]
  },
  {
   "cell_type": "code",
   "execution_count": 37,
   "metadata": {},
   "outputs": [
    {
     "name": "stdout",
     "output_type": "stream",
     "text": [
      "Test accuracy : 0.8325999975204468\n"
     ]
    }
   ],
   "source": [
    "print('Test accuracy : {}'.format(test_accuracy.numpy()))"
   ]
  },
  {
   "cell_type": "markdown",
   "metadata": {},
   "source": [
    "### ELU-based Model\n",
    "\n",
    "We define a 2-layer NN with ELU activation function."
   ]
  },
  {
   "cell_type": "code",
   "execution_count": 38,
   "metadata": {},
   "outputs": [],
   "source": [
    "model = NeuralNet(\n",
    "    units=neurons,\n",
    "    activation=tf.nn.elu,\n",
    "    initializer='he_normal',\n",
    "    num_classes=10\n",
    ")"
   ]
  },
  {
   "cell_type": "markdown",
   "metadata": {},
   "source": [
    "We train our model for 300 epochs."
   ]
  },
  {
   "cell_type": "code",
   "execution_count": 39,
   "metadata": {},
   "outputs": [
    {
     "name": "stdout",
     "output_type": "stream",
     "text": [
      "epoch 50/300 : mean loss = 30.876705169677734, mean accuracy = 0.8188981413841248\n",
      "epoch 100/300 : mean loss = 27.03605079650879, mean accuracy = 0.8384462594985962\n",
      "epoch 150/300 : mean loss = 25.26348304748535, mean accuracy = 0.8483633995056152\n",
      "epoch 200/300 : mean loss = 24.11379051208496, mean accuracy = 0.8556708097457886\n",
      "epoch 250/300 : mean loss = 23.325796127319336, mean accuracy = 0.859745442867279\n",
      "epoch 300/300 : mean loss = 22.671171188354492, mean accuracy = 0.8628097772598267\n"
     ]
    }
   ],
   "source": [
    "elu_performance = train(model, loss_fn, dataset, epochs=epochs)"
   ]
  },
  {
   "cell_type": "markdown",
   "metadata": {},
   "source": [
    "We produce predictions for the test data."
   ]
  },
  {
   "cell_type": "code",
   "execution_count": 40,
   "metadata": {},
   "outputs": [],
   "source": [
    "predictions = tf.nn.softmax(model(test_features))"
   ]
  },
  {
   "cell_type": "markdown",
   "metadata": {},
   "source": [
    "We compute the test accuracy."
   ]
  },
  {
   "cell_type": "code",
   "execution_count": 41,
   "metadata": {},
   "outputs": [],
   "source": [
    "accuracy = tf.metrics.Accuracy()\n",
    "test_accuracy = accuracy(tf.argmax(predictions, 1), tf.argmax(test_labels, 1))"
   ]
  },
  {
   "cell_type": "markdown",
   "metadata": {},
   "source": [
    "Check for the test accuracy."
   ]
  },
  {
   "cell_type": "code",
   "execution_count": 42,
   "metadata": {},
   "outputs": [
    {
     "name": "stdout",
     "output_type": "stream",
     "text": [
      "Test accuracy : 0.8479999899864197\n"
     ]
    }
   ],
   "source": [
    "print('Test accuracy : {}'.format(test_accuracy.numpy()))"
   ]
  },
  {
   "cell_type": "markdown",
   "metadata": {},
   "source": [
    "## Training Performance\n",
    "\n",
    "We lay down the training performance of each model."
   ]
  },
  {
   "cell_type": "code",
   "execution_count": 43,
   "metadata": {},
   "outputs": [
    {
     "data": {
      "image/png": "[encoded data removed]",
      "text/plain": [
       "<Figure size 1152x576 with 2 Axes>"
      ]
     },
     "metadata": {},
     "output_type": "display_data"
    }
   ],
   "source": [
    "sns.set_style('dark', {'grid.linestyle': '--'})\n",
    "plt.figure(figsize=(16, 8))\n",
    "plt.rcParams.update({'font.size': 14})\n",
    "\n",
    "plt.subplot(121)\n",
    "plt.plot(range(len(logistic_performance[0])), logistic_performance[0], label='logistic')\n",
    "plt.plot(range(len(tanh_performance[0])), tanh_performance[0], label='tanh')\n",
    "plt.plot(range(len(relu_performance[0])), relu_performance[0], label='relu')\n",
    "plt.plot(range(len(lrelu_performance[0])), lrelu_performance[0], label='leaky_relu')\n",
    "plt.plot(range(len(softplus_performance[0])), softplus_performance[0], label='softplus')\n",
    "plt.plot(range(len(elu_performance[0])), elu_performance[0], label='elu')\n",
    "plt.xlabel('epochs')\n",
    "plt.ylabel('train accuracy')\n",
    "plt.legend(loc='lower right')\n",
    "plt.grid()\n",
    "\n",
    "plt.subplot(122)\n",
    "plt.plot(range(len(logistic_performance[1])), logistic_performance[1], label='logistic')\n",
    "plt.plot(range(len(tanh_performance[1])), tanh_performance[1], label='tanh')\n",
    "plt.plot(range(len(relu_performance[1])), relu_performance[1], label='relu')\n",
    "plt.plot(range(len(lrelu_performance[1])), lrelu_performance[1], label='leaky_relu')\n",
    "plt.plot(range(len(softplus_performance[1])), softplus_performance[1], label='softplus')\n",
    "plt.plot(range(len(elu_performance[1])), elu_performance[1], label='elu')\n",
    "plt.xlabel('epochs')\n",
    "plt.ylabel('train loss')\n",
    "plt.legend(loc='upper right')\n",
    "plt.grid()\n",
    "\n",
    "plt.suptitle('Neural Nets on Fashion-MNIST with mini-batch size of 1024')\n",
    "plt.savefig('fmnist_experiments_1024.png', dpi=300)\n",
    "plt.show()"
   ]
  }
 ],
 "metadata": {
  "kernelspec": {
   "display_name": "Python 3",
   "language": "python",
   "name": "python3"
  },
  "language_info": {
   "codemirror_mode": {
    "name": "ipython",
    "version": 3
   },
   "file_extension": ".py",
   "mimetype": "text/x-python",
   "name": "python",
   "nbconvert_exporter": "python",
   "pygments_lexer": "ipython3",
   "version": "3.6.8"
  }
 },
 "nbformat": 4,
 "nbformat_minor": 2
}
