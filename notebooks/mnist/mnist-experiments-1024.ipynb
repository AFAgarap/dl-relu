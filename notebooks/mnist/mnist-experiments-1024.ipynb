{
 "cells": [
  {
   "cell_type": "markdown",
   "metadata": {},
   "source": [
    "Deep Learning using Rectified Linear Units\n",
    "===\n",
    "\n",
    "## Overview\n",
    "\n",
    "In this notebook, we explore the performance of a neural net with varying activation functions on an image classification task."
   ]
  },
  {
   "cell_type": "markdown",
   "metadata": {},
   "source": [
    "We load our dependencies."
   ]
  },
  {
   "cell_type": "code",
   "execution_count": 1,
   "metadata": {},
   "outputs": [],
   "source": [
    "import matplotlib.pyplot as plt\n",
    "import numpy as np\n",
    "import seaborn as sns\n",
    "import tensorflow as tf\n",
    "\n",
    "from neural_net import NeuralNet, loss_fn, train_step, train"
   ]
  },
  {
   "cell_type": "markdown",
   "metadata": {},
   "source": [
    "We set up the GPU memory growth."
   ]
  },
  {
   "cell_type": "code",
   "execution_count": 2,
   "metadata": {},
   "outputs": [],
   "source": [
    "tf.config.experimental.set_memory_growth(tf.config.experimental.list_physical_devices('GPU')[0], True)"
   ]
  },
  {
   "cell_type": "markdown",
   "metadata": {},
   "source": [
    "We set the random seeds for reproducibility."
   ]
  },
  {
   "cell_type": "code",
   "execution_count": 3,
   "metadata": {},
   "outputs": [],
   "source": [
    "np.random.seed(42)\n",
    "tf.random.set_seed(42)"
   ]
  },
  {
   "cell_type": "markdown",
   "metadata": {},
   "source": [
    "We set the batch size, the number of epochs, and the number of units per layer."
   ]
  },
  {
   "cell_type": "code",
   "execution_count": 4,
   "metadata": {},
   "outputs": [],
   "source": [
    "batch_size = 1024\n",
    "epochs = 300\n",
    "neurons = [512, 512]"
   ]
  },
  {
   "cell_type": "markdown",
   "metadata": {},
   "source": [
    "## Data Preparation"
   ]
  },
  {
   "cell_type": "markdown",
   "metadata": {},
   "source": [
    "We load the MNIST dataset."
   ]
  },
  {
   "cell_type": "code",
   "execution_count": 5,
   "metadata": {},
   "outputs": [],
   "source": [
    "(train_features, train_labels), (test_features, test_labels) = tf.keras.datasets.mnist.load_data()"
   ]
  },
  {
   "cell_type": "markdown",
   "metadata": {},
   "source": [
    "We scale the images."
   ]
  },
  {
   "cell_type": "code",
   "execution_count": 6,
   "metadata": {},
   "outputs": [],
   "source": [
    "train_features = train_features.astype('float32').reshape(-1, 784) / 255.\n",
    "test_features = test_features.astype('float32').reshape(-1, 784) / 255."
   ]
  },
  {
   "cell_type": "markdown",
   "metadata": {},
   "source": [
    "We one-hot encode labels."
   ]
  },
  {
   "cell_type": "code",
   "execution_count": 7,
   "metadata": {},
   "outputs": [],
   "source": [
    "train_labels = tf.one_hot(train_labels, 10)\n",
    "test_labels = tf.one_hot(test_labels, 10)"
   ]
  },
  {
   "cell_type": "markdown",
   "metadata": {},
   "source": [
    "We create a `tf.data.Dataset` object for the training dataset."
   ]
  },
  {
   "cell_type": "code",
   "execution_count": 8,
   "metadata": {},
   "outputs": [],
   "source": [
    "dataset = tf.data.Dataset.from_tensor_slices((train_features, train_labels))\n",
    "dataset = dataset.prefetch(4096).shuffle(2048).batch(batch_size, True)"
   ]
  },
  {
   "cell_type": "markdown",
   "metadata": {},
   "source": [
    "## Model"
   ]
  },
  {
   "cell_type": "markdown",
   "metadata": {},
   "source": [
    "We use a `NeuralNet` class that consists of two hidden layers."
   ]
  },
  {
   "cell_type": "markdown",
   "metadata": {},
   "source": [
    "### Logistic-based Model\n",
    "\n",
    "We define a 2-layer NN with Logistic activation function."
   ]
  },
  {
   "cell_type": "code",
   "execution_count": 13,
   "metadata": {},
   "outputs": [],
   "source": [
    "model = NeuralNet(\n",
    "    units=neurons,\n",
    "    activation=tf.nn.sigmoid,\n",
    "    initializer='glorot_uniform',\n",
    "    num_classes=10\n",
    ")"
   ]
  },
  {
   "cell_type": "markdown",
   "metadata": {},
   "source": [
    "We train our model for 300 epochs."
   ]
  },
  {
   "cell_type": "code",
   "execution_count": 14,
   "metadata": {},
   "outputs": [
    {
     "name": "stdout",
     "output_type": "stream",
     "text": [
      "epoch 50/300 : mean loss = 124.78715515136719, mean accuracy = 0.5058088898658752\n",
      "epoch 100/300 : mean loss = 108.74727630615234, mean accuracy = 0.6294618844985962\n",
      "epoch 150/300 : mean loss = 83.38184356689453, mean accuracy = 0.707671046257019\n",
      "epoch 200/300 : mean loss = 62.34834671020508, mean accuracy = 0.7648673057556152\n",
      "epoch 250/300 : mean loss = 49.619140625, mean accuracy = 0.8005455136299133\n",
      "epoch 300/300 : mean loss = 41.73159408569336, mean accuracy = 0.8244208097457886\n"
     ]
    }
   ],
   "source": [
    "logistic_performance = train(model, loss_fn, dataset, epochs=epochs)"
   ]
  },
  {
   "cell_type": "markdown",
   "metadata": {},
   "source": [
    "We produce predictions for the test data."
   ]
  },
  {
   "cell_type": "code",
   "execution_count": 15,
   "metadata": {},
   "outputs": [],
   "source": [
    "predictions = tf.nn.softmax(model(test_features))"
   ]
  },
  {
   "cell_type": "markdown",
   "metadata": {},
   "source": [
    "We compute the test accuracy."
   ]
  },
  {
   "cell_type": "code",
   "execution_count": 16,
   "metadata": {},
   "outputs": [],
   "source": [
    "accuracy = tf.metrics.Accuracy()\n",
    "test_accuracy = accuracy(tf.argmax(predictions, 1), tf.argmax(test_labels, 1))"
   ]
  },
  {
   "cell_type": "markdown",
   "metadata": {},
   "source": [
    "Check for the test accuracy."
   ]
  },
  {
   "cell_type": "code",
   "execution_count": 17,
   "metadata": {},
   "outputs": [
    {
     "name": "stdout",
     "output_type": "stream",
     "text": [
      "Test accuracy : 0.8299999833106995\n"
     ]
    }
   ],
   "source": [
    "print('Test accuracy : {}'.format(test_accuracy.numpy()))"
   ]
  },
  {
   "cell_type": "markdown",
   "metadata": {},
   "source": [
    "### TanH-based Model\n",
    "\n",
    "We define a 2-layer NN with Hyperbolic Tangent activation function."
   ]
  },
  {
   "cell_type": "code",
   "execution_count": 18,
   "metadata": {},
   "outputs": [],
   "source": [
    "model = NeuralNet(\n",
    "    units=neurons,\n",
    "    activation=tf.nn.tanh,\n",
    "    initializer='glorot_uniform',\n",
    "    num_classes=10\n",
    ")"
   ]
  },
  {
   "cell_type": "markdown",
   "metadata": {},
   "source": [
    "We train our model for 300 epochs."
   ]
  },
  {
   "cell_type": "code",
   "execution_count": 19,
   "metadata": {},
   "outputs": [
    {
     "name": "stdout",
     "output_type": "stream",
     "text": [
      "epoch 50/300 : mean loss = 24.030454635620117, mean accuracy = 0.8835533261299133\n",
      "epoch 100/300 : mean loss = 19.89619255065918, mean accuracy = 0.9019059538841248\n",
      "epoch 150/300 : mean loss = 18.146024703979492, mean accuracy = 0.9111664891242981\n",
      "epoch 200/300 : mean loss = 17.04576873779297, mean accuracy = 0.9159314632415771\n",
      "epoch 250/300 : mean loss = 16.290496826171875, mean accuracy = 0.920073390007019\n",
      "epoch 300/300 : mean loss = 15.572500228881836, mean accuracy = 0.9240975379943848\n"
     ]
    }
   ],
   "source": [
    "tanh_performance = train(model, loss_fn, dataset, epochs=epochs)"
   ]
  },
  {
   "cell_type": "markdown",
   "metadata": {},
   "source": [
    "We produce predictions for the test data."
   ]
  },
  {
   "cell_type": "code",
   "execution_count": 20,
   "metadata": {},
   "outputs": [],
   "source": [
    "predictions = tf.nn.softmax(model(test_features))"
   ]
  },
  {
   "cell_type": "markdown",
   "metadata": {},
   "source": [
    "We compute the test accuracy."
   ]
  },
  {
   "cell_type": "code",
   "execution_count": 21,
   "metadata": {},
   "outputs": [],
   "source": [
    "accuracy = tf.metrics.Accuracy()\n",
    "test_accuracy = accuracy(tf.argmax(predictions, 1), tf.argmax(test_labels, 1))"
   ]
  },
  {
   "cell_type": "markdown",
   "metadata": {},
   "source": [
    "Check for the test accuracy."
   ]
  },
  {
   "cell_type": "code",
   "execution_count": 22,
   "metadata": {},
   "outputs": [
    {
     "name": "stdout",
     "output_type": "stream",
     "text": [
      "Test accuracy : 0.9261000156402588\n"
     ]
    }
   ],
   "source": [
    "print('Test accuracy : {}'.format(test_accuracy.numpy()))"
   ]
  },
  {
   "cell_type": "markdown",
   "metadata": {},
   "source": [
    "### ReLU-based Model\n",
    "\n",
    "We define a 2-layer NN with ReLU activation function."
   ]
  },
  {
   "cell_type": "code",
   "execution_count": 23,
   "metadata": {},
   "outputs": [],
   "source": [
    "model = NeuralNet(\n",
    "    units=neurons,\n",
    "    activation=tf.nn.relu,\n",
    "    initializer='he_normal',\n",
    "    num_classes=10\n",
    ")"
   ]
  },
  {
   "cell_type": "markdown",
   "metadata": {},
   "source": [
    "We train our model for 300 epochs."
   ]
  },
  {
   "cell_type": "code",
   "execution_count": 24,
   "metadata": {},
   "outputs": [
    {
     "name": "stdout",
     "output_type": "stream",
     "text": [
      "epoch 50/300 : mean loss = 23.05595588684082, mean accuracy = 0.8884530067443848\n",
      "epoch 100/300 : mean loss = 17.472089767456055, mean accuracy = 0.9136247038841248\n",
      "epoch 150/300 : mean loss = 14.95518684387207, mean accuracy = 0.9267914891242981\n",
      "epoch 200/300 : mean loss = 13.292386054992676, mean accuracy = 0.9347891807556152\n",
      "epoch 250/300 : mean loss = 11.981569290161133, mean accuracy = 0.9421639442443848\n",
      "epoch 300/300 : mean loss = 10.967140197753906, mean accuracy = 0.9465247988700867\n"
     ]
    }
   ],
   "source": [
    "relu_performance = train(model, loss_fn, dataset, epochs=epochs)"
   ]
  },
  {
   "cell_type": "markdown",
   "metadata": {},
   "source": [
    "We produce predictions for the test data."
   ]
  },
  {
   "cell_type": "code",
   "execution_count": 25,
   "metadata": {},
   "outputs": [],
   "source": [
    "predictions = tf.nn.softmax(model(test_features))"
   ]
  },
  {
   "cell_type": "markdown",
   "metadata": {},
   "source": [
    "We compute the test accuracy."
   ]
  },
  {
   "cell_type": "code",
   "execution_count": 26,
   "metadata": {},
   "outputs": [],
   "source": [
    "accuracy = tf.metrics.Accuracy()\n",
    "test_accuracy = accuracy(tf.argmax(predictions, 1), tf.argmax(test_labels, 1))"
   ]
  },
  {
   "cell_type": "markdown",
   "metadata": {},
   "source": [
    "Check for the test accuracy."
   ]
  },
  {
   "cell_type": "code",
   "execution_count": 27,
   "metadata": {},
   "outputs": [
    {
     "name": "stdout",
     "output_type": "stream",
     "text": [
      "Test accuracy : 0.9467999935150146\n"
     ]
    }
   ],
   "source": [
    "print('Test accuracy : {}'.format(test_accuracy.numpy()))"
   ]
  },
  {
   "cell_type": "markdown",
   "metadata": {},
   "source": [
    "### Leaky ReLU-based Model\n",
    "\n",
    "We define a 2-layer NN with Leaky ReLU activation function."
   ]
  },
  {
   "cell_type": "code",
   "execution_count": 28,
   "metadata": {},
   "outputs": [],
   "source": [
    "model = NeuralNet(\n",
    "    units=neurons,\n",
    "    activation=tf.nn.leaky_relu,\n",
    "    initializer='he_normal',\n",
    "    num_classes=10\n",
    ")"
   ]
  },
  {
   "cell_type": "markdown",
   "metadata": {},
   "source": [
    "We train our model for 300 epochs."
   ]
  },
  {
   "cell_type": "code",
   "execution_count": 29,
   "metadata": {},
   "outputs": [
    {
     "name": "stdout",
     "output_type": "stream",
     "text": [
      "epoch 50/300 : mean loss = 22.97422218322754, mean accuracy = 0.8874764442443848\n",
      "epoch 100/300 : mean loss = 18.12353515625, mean accuracy = 0.9108970761299133\n",
      "epoch 150/300 : mean loss = 15.909416198730469, mean accuracy = 0.9214877486228943\n",
      "epoch 200/300 : mean loss = 14.447744369506836, mean accuracy = 0.9297885298728943\n",
      "epoch 250/300 : mean loss = 13.200448989868164, mean accuracy = 0.9359509944915771\n",
      "epoch 300/300 : mean loss = 12.268448829650879, mean accuracy = 0.9409347772598267\n"
     ]
    }
   ],
   "source": [
    "lrelu_performance = train(model, loss_fn, dataset, epochs=epochs)"
   ]
  },
  {
   "cell_type": "markdown",
   "metadata": {},
   "source": [
    "We produce predictions for the test data."
   ]
  },
  {
   "cell_type": "code",
   "execution_count": 30,
   "metadata": {},
   "outputs": [],
   "source": [
    "predictions = tf.nn.softmax(model(test_features))"
   ]
  },
  {
   "cell_type": "markdown",
   "metadata": {},
   "source": [
    "We compute the test accuracy."
   ]
  },
  {
   "cell_type": "code",
   "execution_count": 31,
   "metadata": {},
   "outputs": [],
   "source": [
    "accuracy = tf.metrics.Accuracy()\n",
    "test_accuracy = accuracy(tf.argmax(predictions, 1), tf.argmax(test_labels, 1))"
   ]
  },
  {
   "cell_type": "markdown",
   "metadata": {},
   "source": [
    "Check for the test accuracy."
   ]
  },
  {
   "cell_type": "code",
   "execution_count": 32,
   "metadata": {},
   "outputs": [
    {
     "name": "stdout",
     "output_type": "stream",
     "text": [
      "Test accuracy : 0.9426000118255615\n"
     ]
    }
   ],
   "source": [
    "print('Test accuracy : {}'.format(test_accuracy.numpy()))"
   ]
  },
  {
   "cell_type": "markdown",
   "metadata": {},
   "source": [
    "### Softplus-based Model\n",
    "\n",
    "We define a 2-layer NN with Softplus activation function."
   ]
  },
  {
   "cell_type": "code",
   "execution_count": 33,
   "metadata": {},
   "outputs": [],
   "source": [
    "model = NeuralNet(\n",
    "    units=neurons,\n",
    "    activation=tf.nn.softplus,\n",
    "    initializer='he_normal',\n",
    "    num_classes=10\n",
    ")"
   ]
  },
  {
   "cell_type": "markdown",
   "metadata": {},
   "source": [
    "We train our model for 300 epochs."
   ]
  },
  {
   "cell_type": "code",
   "execution_count": 34,
   "metadata": {},
   "outputs": [
    {
     "name": "stdout",
     "output_type": "stream",
     "text": [
      "epoch 50/300 : mean loss = 28.1346435546875, mean accuracy = 0.8667833805084229\n",
      "epoch 100/300 : mean loss = 21.805683135986328, mean accuracy = 0.8922750353813171\n",
      "epoch 150/300 : mean loss = 19.646066665649414, mean accuracy = 0.9025794863700867\n",
      "epoch 200/300 : mean loss = 18.42160415649414, mean accuracy = 0.9086240530014038\n",
      "epoch 250/300 : mean loss = 17.611276626586914, mean accuracy = 0.9133384823799133\n",
      "epoch 300/300 : mean loss = 16.993457794189453, mean accuracy = 0.9167227745056152\n"
     ]
    }
   ],
   "source": [
    "softplus_performance = train(model, loss_fn, dataset, epochs=epochs)"
   ]
  },
  {
   "cell_type": "markdown",
   "metadata": {},
   "source": [
    "We produce predictions for the test data."
   ]
  },
  {
   "cell_type": "code",
   "execution_count": 35,
   "metadata": {},
   "outputs": [],
   "source": [
    "predictions = tf.nn.softmax(model(test_features))"
   ]
  },
  {
   "cell_type": "markdown",
   "metadata": {},
   "source": [
    "We compute the test accuracy."
   ]
  },
  {
   "cell_type": "code",
   "execution_count": 36,
   "metadata": {},
   "outputs": [],
   "source": [
    "accuracy = tf.metrics.Accuracy()\n",
    "test_accuracy = accuracy(tf.argmax(predictions, 1), tf.argmax(test_labels, 1))"
   ]
  },
  {
   "cell_type": "markdown",
   "metadata": {},
   "source": [
    "Check for the test accuracy."
   ]
  },
  {
   "cell_type": "code",
   "execution_count": 37,
   "metadata": {},
   "outputs": [
    {
     "name": "stdout",
     "output_type": "stream",
     "text": [
      "Test accuracy : 0.919700026512146\n"
     ]
    }
   ],
   "source": [
    "print('Test accuracy : {}'.format(test_accuracy.numpy()))"
   ]
  },
  {
   "cell_type": "markdown",
   "metadata": {},
   "source": [
    "### ELU-based Model\n",
    "\n",
    "We define a 2-layer NN with ELU activation function."
   ]
  },
  {
   "cell_type": "code",
   "execution_count": 38,
   "metadata": {},
   "outputs": [],
   "source": [
    "model = NeuralNet(\n",
    "    units=neurons,\n",
    "    activation=tf.nn.elu,\n",
    "    initializer='he_normal',\n",
    "    num_classes=10\n",
    ")"
   ]
  },
  {
   "cell_type": "markdown",
   "metadata": {},
   "source": [
    "We train our model for 300 epochs."
   ]
  },
  {
   "cell_type": "code",
   "execution_count": 39,
   "metadata": {},
   "outputs": [
    {
     "name": "stdout",
     "output_type": "stream",
     "text": [
      "epoch 50/300 : mean loss = 22.24932098388672, mean accuracy = 0.8918709754943848\n",
      "epoch 100/300 : mean loss = 18.477754592895508, mean accuracy = 0.9094322323799133\n",
      "epoch 150/300 : mean loss = 16.749286651611328, mean accuracy = 0.9178845882415771\n",
      "epoch 200/300 : mean loss = 15.587139129638672, mean accuracy = 0.9242995977401733\n",
      "epoch 250/300 : mean loss = 14.592337608337402, mean accuracy = 0.9289803504943848\n",
      "epoch 300/300 : mean loss = 13.772987365722656, mean accuracy = 0.932953953742981\n"
     ]
    }
   ],
   "source": [
    "elu_performance = train(model, loss_fn, dataset, epochs=epochs)"
   ]
  },
  {
   "cell_type": "markdown",
   "metadata": {},
   "source": [
    "We produce predictions for the test data."
   ]
  },
  {
   "cell_type": "code",
   "execution_count": 40,
   "metadata": {},
   "outputs": [],
   "source": [
    "predictions = tf.nn.softmax(model(test_features))"
   ]
  },
  {
   "cell_type": "markdown",
   "metadata": {},
   "source": [
    "We compute the test accuracy."
   ]
  },
  {
   "cell_type": "code",
   "execution_count": 41,
   "metadata": {},
   "outputs": [],
   "source": [
    "accuracy = tf.metrics.Accuracy()\n",
    "test_accuracy = accuracy(tf.argmax(predictions, 1), tf.argmax(test_labels, 1))"
   ]
  },
  {
   "cell_type": "markdown",
   "metadata": {},
   "source": [
    "Check for the test accuracy."
   ]
  },
  {
   "cell_type": "code",
   "execution_count": 42,
   "metadata": {},
   "outputs": [
    {
     "name": "stdout",
     "output_type": "stream",
     "text": [
      "Test accuracy : 0.9355999827384949\n"
     ]
    }
   ],
   "source": [
    "print('Test accuracy : {}'.format(test_accuracy.numpy()))"
   ]
  },
  {
   "cell_type": "markdown",
   "metadata": {},
   "source": [
    "## Training Performance\n",
    "\n",
    "We lay down the training performance of each model."
   ]
  },
  {
   "cell_type": "code",
   "execution_count": 43,
   "metadata": {},
   "outputs": [
    {
     "data": {
      "image/png": "[encoded data removed]",
      "text/plain": [
       "<Figure size 1152x576 with 2 Axes>"
      ]
     },
     "metadata": {},
     "output_type": "display_data"
    }
   ],
   "source": [
    "sns.set_style('dark', {'grid.linestyle': '--'})\n",
    "plt.figure(figsize=(16, 8))\n",
    "plt.rcParams.update({'font.size': 14})\n",
    "\n",
    "plt.subplot(121)\n",
    "plt.plot(range(len(logistic_performance[0])), logistic_performance[0], label='logistic')\n",
    "plt.plot(range(len(tanh_performance[0])), tanh_performance[0], label='tanh')\n",
    "plt.plot(range(len(relu_performance[0])), relu_performance[0], label='relu')\n",
    "plt.plot(range(len(lrelu_performance[0])), lrelu_performance[0], label='leaky_relu')\n",
    "plt.plot(range(len(softplus_performance[0])), softplus_performance[0], label='softplus')\n",
    "plt.plot(range(len(elu_performance[0])), elu_performance[0], label='elu')\n",
    "plt.xlabel('epochs')\n",
    "plt.ylabel('train accuracy')\n",
    "plt.legend(loc='lower right')\n",
    "plt.grid()\n",
    "\n",
    "plt.subplot(122)\n",
    "plt.plot(range(len(logistic_performance[1])), logistic_performance[1], label='logistic')\n",
    "plt.plot(range(len(tanh_performance[1])), tanh_performance[1], label='tanh')\n",
    "plt.plot(range(len(relu_performance[1])), relu_performance[1], label='relu')\n",
    "plt.plot(range(len(lrelu_performance[1])), lrelu_performance[1], label='leaky_relu')\n",
    "plt.plot(range(len(softplus_performance[1])), softplus_performance[1], label='softplus')\n",
    "plt.plot(range(len(elu_performance[1])), elu_performance[1], label='elu')\n",
    "plt.xlabel('epochs')\n",
    "plt.ylabel('train loss')\n",
    "plt.legend(loc='upper right')\n",
    "plt.grid()\n",
    "\n",
    "plt.suptitle('Neural Nets on MNIST with mini-batch size of 1024')\n",
    "plt.savefig('mnist_experiments_1024.png', dpi=300)\n",
    "plt.show()"
   ]
  }
 ],
 "metadata": {
  "kernelspec": {
   "display_name": "Python 3",
   "language": "python",
   "name": "python3"
  },
  "language_info": {
   "codemirror_mode": {
    "name": "ipython",
    "version": 3
   },
   "file_extension": ".py",
   "mimetype": "text/x-python",
   "name": "python",
   "nbconvert_exporter": "python",
   "pygments_lexer": "ipython3",
   "version": "3.7.5"
  }
 },
 "nbformat": 4,
 "nbformat_minor": 2
}
