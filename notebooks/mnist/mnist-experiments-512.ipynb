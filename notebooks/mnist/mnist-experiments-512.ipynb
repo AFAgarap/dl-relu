{
 "cells": [
  {
   "cell_type": "markdown",
   "metadata": {},
   "source": [
    "Deep Learning using Rectified Linear Units\n",
    "===\n",
    "\n",
    "## Overview\n",
    "\n",
    "In this notebook, we explore the performance of a neural net with varying activation functions on an image classification task."
   ]
  },
  {
   "cell_type": "markdown",
   "metadata": {},
   "source": [
    "We load our dependencies."
   ]
  },
  {
   "cell_type": "code",
   "execution_count": 1,
   "metadata": {},
   "outputs": [],
   "source": [
    "import matplotlib.pyplot as plt\n",
    "import numpy as np\n",
    "import seaborn as sns\n",
    "import tensorflow as tf\n",
    "\n",
    "from neural_net import NeuralNet, loss_fn, train_step, train"
   ]
  },
  {
   "cell_type": "markdown",
   "metadata": {},
   "source": [
    "We set up the GPU memory growth."
   ]
  },
  {
   "cell_type": "code",
   "execution_count": 2,
   "metadata": {},
   "outputs": [],
   "source": [
    "tf.config.experimental.set_memory_growth(tf.config.experimental.list_physical_devices('GPU')[0], True)"
   ]
  },
  {
   "cell_type": "markdown",
   "metadata": {},
   "source": [
    "We set the random seeds for reproducibility."
   ]
  },
  {
   "cell_type": "code",
   "execution_count": 3,
   "metadata": {},
   "outputs": [],
   "source": [
    "np.random.seed(42)\n",
    "tf.random.set_seed(42)"
   ]
  },
  {
   "cell_type": "markdown",
   "metadata": {},
   "source": [
    "We set the batch size, the number of epochs, and the number of units per layer."
   ]
  },
  {
   "cell_type": "code",
   "execution_count": 4,
   "metadata": {},
   "outputs": [],
   "source": [
    "batch_size = 512\n",
    "epochs = 300\n",
    "neurons = [512, 512]"
   ]
  },
  {
   "cell_type": "markdown",
   "metadata": {},
   "source": [
    "## Data Preparation"
   ]
  },
  {
   "cell_type": "markdown",
   "metadata": {},
   "source": [
    "We load the MNIST dataset."
   ]
  },
  {
   "cell_type": "code",
   "execution_count": 5,
   "metadata": {},
   "outputs": [],
   "source": [
    "(train_features, train_labels), (test_features, test_labels) = tf.keras.datasets.mnist.load_data()"
   ]
  },
  {
   "cell_type": "markdown",
   "metadata": {},
   "source": [
    "We scale the images."
   ]
  },
  {
   "cell_type": "code",
   "execution_count": 6,
   "metadata": {},
   "outputs": [],
   "source": [
    "train_features = train_features.astype('float32').reshape(-1, 784) / 255.\n",
    "test_features = test_features.astype('float32').reshape(-1, 784) / 255."
   ]
  },
  {
   "cell_type": "markdown",
   "metadata": {},
   "source": [
    "We one-hot encode labels."
   ]
  },
  {
   "cell_type": "code",
   "execution_count": 7,
   "metadata": {},
   "outputs": [],
   "source": [
    "train_labels = tf.one_hot(train_labels, 10)\n",
    "test_labels = tf.one_hot(test_labels, 10)"
   ]
  },
  {
   "cell_type": "markdown",
   "metadata": {},
   "source": [
    "We create a `tf.data.Dataset` object for the training dataset."
   ]
  },
  {
   "cell_type": "code",
   "execution_count": 8,
   "metadata": {},
   "outputs": [],
   "source": [
    "dataset = tf.data.Dataset.from_tensor_slices((train_features, train_labels))\n",
    "dataset = dataset.prefetch(4096).shuffle(4096).batch(batch_size, True)"
   ]
  },
  {
   "cell_type": "markdown",
   "metadata": {},
   "source": [
    "## Model"
   ]
  },
  {
   "cell_type": "markdown",
   "metadata": {},
   "source": [
    "We use a `NeuralNet` class that consists of two hidden layers."
   ]
  },
  {
   "cell_type": "markdown",
   "metadata": {},
   "source": [
    "### Logistic-based Model\n",
    "\n",
    "We define a 2-layer NN with Logistic activation function."
   ]
  },
  {
   "cell_type": "code",
   "execution_count": 13,
   "metadata": {},
   "outputs": [],
   "source": [
    "model = NeuralNet(\n",
    "    units=neurons,\n",
    "    activation=tf.nn.sigmoid,\n",
    "    initializer='glorot_uniform',\n",
    "    num_classes=10\n",
    ")"
   ]
  },
  {
   "cell_type": "markdown",
   "metadata": {},
   "source": [
    "We train our model for 300 epochs."
   ]
  },
  {
   "cell_type": "code",
   "execution_count": 14,
   "metadata": {},
   "outputs": [
    {
     "name": "stdout",
     "output_type": "stream",
     "text": [
      "epoch 50/300 : mean loss = 219.92889404296875, mean accuracy = 0.6262186169624329\n",
      "epoch 100/300 : mean loss = 125.63847351074219, mean accuracy = 0.7658587098121643\n",
      "epoch 150/300 : mean loss = 83.90591430664062, mean accuracy = 0.8242354393005371\n",
      "epoch 200/300 : mean loss = 65.95451354980469, mean accuracy = 0.8540331125259399\n",
      "epoch 250/300 : mean loss = 56.727027893066406, mean accuracy = 0.870559573173523\n",
      "epoch 300/300 : mean loss = 51.205196380615234, mean accuracy = 0.8803919553756714\n"
     ]
    }
   ],
   "source": [
    "logistic_performance = train(model, loss_fn, dataset, epochs=epochs)"
   ]
  },
  {
   "cell_type": "markdown",
   "metadata": {},
   "source": [
    "We produce predictions for the test data."
   ]
  },
  {
   "cell_type": "code",
   "execution_count": 15,
   "metadata": {},
   "outputs": [],
   "source": [
    "predictions = tf.nn.softmax(model(test_features))"
   ]
  },
  {
   "cell_type": "markdown",
   "metadata": {},
   "source": [
    "We compute the test accuracy."
   ]
  },
  {
   "cell_type": "code",
   "execution_count": 16,
   "metadata": {},
   "outputs": [],
   "source": [
    "accuracy = tf.metrics.Accuracy()\n",
    "test_accuracy = accuracy(tf.argmax(predictions, 1), tf.argmax(test_labels, 1))"
   ]
  },
  {
   "cell_type": "markdown",
   "metadata": {},
   "source": [
    "Check for the test accuracy."
   ]
  },
  {
   "cell_type": "code",
   "execution_count": 17,
   "metadata": {},
   "outputs": [
    {
     "name": "stdout",
     "output_type": "stream",
     "text": [
      "Test accuracy : 0.8871999979019165\n"
     ]
    }
   ],
   "source": [
    "print('Test accuracy : {}'.format(test_accuracy.numpy()))"
   ]
  },
  {
   "cell_type": "markdown",
   "metadata": {},
   "source": [
    "### TanH-based Model\n",
    "\n",
    "We define a 2-layer NN with Hyperbolic Tangent activation function."
   ]
  },
  {
   "cell_type": "code",
   "execution_count": 18,
   "metadata": {},
   "outputs": [],
   "source": [
    "model = NeuralNet(\n",
    "    units=neurons,\n",
    "    activation=tf.nn.tanh,\n",
    "    initializer='glorot_uniform',\n",
    "    num_classes=10\n",
    ")"
   ]
  },
  {
   "cell_type": "markdown",
   "metadata": {},
   "source": [
    "We train our model for 300 epochs."
   ]
  },
  {
   "cell_type": "code",
   "execution_count": 19,
   "metadata": {},
   "outputs": [
    {
     "name": "stdout",
     "output_type": "stream",
     "text": [
      "epoch 50/300 : mean loss = 41.1085090637207, mean accuracy = 0.8992888331413269\n",
      "epoch 100/300 : mean loss = 34.8826789855957, mean accuracy = 0.9150474071502686\n",
      "epoch 150/300 : mean loss = 31.67683982849121, mean accuracy = 0.92311030626297\n",
      "epoch 200/300 : mean loss = 29.215179443359375, mean accuracy = 0.9298544526100159\n",
      "epoch 250/300 : mean loss = 27.13260841369629, mean accuracy = 0.9344785213470459\n",
      "epoch 300/300 : mean loss = 25.023637771606445, mean accuracy = 0.939987301826477\n"
     ]
    }
   ],
   "source": [
    "tanh_performance = train(model, loss_fn, dataset, epochs=epochs)"
   ]
  },
  {
   "cell_type": "markdown",
   "metadata": {},
   "source": [
    "We produce predictions for the test data."
   ]
  },
  {
   "cell_type": "code",
   "execution_count": 20,
   "metadata": {},
   "outputs": [],
   "source": [
    "predictions = tf.nn.softmax(model(test_features))"
   ]
  },
  {
   "cell_type": "markdown",
   "metadata": {},
   "source": [
    "We compute the test accuracy."
   ]
  },
  {
   "cell_type": "code",
   "execution_count": 21,
   "metadata": {},
   "outputs": [],
   "source": [
    "accuracy = tf.metrics.Accuracy()\n",
    "test_accuracy = accuracy(tf.argmax(predictions, 1), tf.argmax(test_labels, 1))"
   ]
  },
  {
   "cell_type": "markdown",
   "metadata": {},
   "source": [
    "Check for the test accuracy."
   ]
  },
  {
   "cell_type": "code",
   "execution_count": 22,
   "metadata": {},
   "outputs": [
    {
     "name": "stdout",
     "output_type": "stream",
     "text": [
      "Test accuracy : 0.9387000203132629\n"
     ]
    }
   ],
   "source": [
    "print('Test accuracy : {}'.format(test_accuracy.numpy()))"
   ]
  },
  {
   "cell_type": "markdown",
   "metadata": {},
   "source": [
    "### ReLU-based Model\n",
    "\n",
    "We define a 2-layer NN with ReLU activation function."
   ]
  },
  {
   "cell_type": "code",
   "execution_count": 23,
   "metadata": {},
   "outputs": [],
   "source": [
    "model = NeuralNet(\n",
    "    units=neurons,\n",
    "    activation=tf.nn.relu,\n",
    "    initializer='he_normal',\n",
    "    num_classes=10\n",
    ")"
   ]
  },
  {
   "cell_type": "markdown",
   "metadata": {},
   "source": [
    "We train our model for 300 epochs."
   ]
  },
  {
   "cell_type": "code",
   "execution_count": 24,
   "metadata": {},
   "outputs": [
    {
     "name": "stdout",
     "output_type": "stream",
     "text": [
      "epoch 50/300 : mean loss = 37.91804504394531, mean accuracy = 0.9058660268783569\n",
      "epoch 100/300 : mean loss = 28.591310501098633, mean accuracy = 0.9302550554275513\n",
      "epoch 150/300 : mean loss = 23.43661117553711, mean accuracy = 0.943175733089447\n",
      "epoch 200/300 : mean loss = 19.79481315612793, mean accuracy = 0.9521400928497314\n",
      "epoch 250/300 : mean loss = 17.128997802734375, mean accuracy = 0.9587673544883728\n",
      "epoch 300/300 : mean loss = 15.156329154968262, mean accuracy = 0.9637419581413269\n"
     ]
    }
   ],
   "source": [
    "relu_performance = train(model, loss_fn, dataset, epochs=epochs)"
   ]
  },
  {
   "cell_type": "markdown",
   "metadata": {},
   "source": [
    "We produce predictions for the test data."
   ]
  },
  {
   "cell_type": "code",
   "execution_count": 25,
   "metadata": {},
   "outputs": [],
   "source": [
    "predictions = tf.nn.softmax(model(test_features))"
   ]
  },
  {
   "cell_type": "markdown",
   "metadata": {},
   "source": [
    "We compute the test accuracy."
   ]
  },
  {
   "cell_type": "code",
   "execution_count": 26,
   "metadata": {},
   "outputs": [],
   "source": [
    "accuracy = tf.metrics.Accuracy()\n",
    "test_accuracy = accuracy(tf.argmax(predictions, 1), tf.argmax(test_labels, 1))"
   ]
  },
  {
   "cell_type": "markdown",
   "metadata": {},
   "source": [
    "Check for the test accuracy."
   ]
  },
  {
   "cell_type": "code",
   "execution_count": 27,
   "metadata": {},
   "outputs": [
    {
     "name": "stdout",
     "output_type": "stream",
     "text": [
      "Test accuracy : 0.9607999920845032\n"
     ]
    }
   ],
   "source": [
    "print('Test accuracy : {}'.format(test_accuracy.numpy()))"
   ]
  },
  {
   "cell_type": "markdown",
   "metadata": {},
   "source": [
    "### Leaky ReLU-based Model\n",
    "\n",
    "We define a 2-layer NN with Leaky ReLU activation function."
   ]
  },
  {
   "cell_type": "code",
   "execution_count": 28,
   "metadata": {},
   "outputs": [],
   "source": [
    "model = NeuralNet(\n",
    "    units=neurons,\n",
    "    activation=tf.nn.leaky_relu,\n",
    "    initializer='he_normal',\n",
    "    num_classes=10\n",
    ")"
   ]
  },
  {
   "cell_type": "markdown",
   "metadata": {},
   "source": [
    "We train our model for 300 epochs."
   ]
  },
  {
   "cell_type": "code",
   "execution_count": 29,
   "metadata": {},
   "outputs": [
    {
     "name": "stdout",
     "output_type": "stream",
     "text": [
      "epoch 50/300 : mean loss = 38.261756896972656, mean accuracy = 0.9059996008872986\n",
      "epoch 100/300 : mean loss = 29.883636474609375, mean accuracy = 0.927200198173523\n",
      "epoch 150/300 : mean loss = 25.318262100219727, mean accuracy = 0.9387853741645813\n",
      "epoch 200/300 : mean loss = 22.130746841430664, mean accuracy = 0.9464309811592102\n",
      "epoch 250/300 : mean loss = 19.44657325744629, mean accuracy = 0.9531416893005371\n",
      "epoch 300/300 : mean loss = 17.38762664794922, mean accuracy = 0.958650529384613\n"
     ]
    }
   ],
   "source": [
    "lrelu_performance = train(model, loss_fn, dataset, epochs=epochs)"
   ]
  },
  {
   "cell_type": "markdown",
   "metadata": {},
   "source": [
    "We produce predictions for the test data."
   ]
  },
  {
   "cell_type": "code",
   "execution_count": 30,
   "metadata": {},
   "outputs": [],
   "source": [
    "predictions = tf.nn.softmax(model(test_features))"
   ]
  },
  {
   "cell_type": "markdown",
   "metadata": {},
   "source": [
    "We compute the test accuracy."
   ]
  },
  {
   "cell_type": "code",
   "execution_count": 31,
   "metadata": {},
   "outputs": [],
   "source": [
    "accuracy = tf.metrics.Accuracy()\n",
    "test_accuracy = accuracy(tf.argmax(predictions, 1), tf.argmax(test_labels, 1))"
   ]
  },
  {
   "cell_type": "markdown",
   "metadata": {},
   "source": [
    "Check for the test accuracy."
   ]
  },
  {
   "cell_type": "code",
   "execution_count": 32,
   "metadata": {},
   "outputs": [
    {
     "name": "stdout",
     "output_type": "stream",
     "text": [
      "Test accuracy : 0.9553999900817871\n"
     ]
    }
   ],
   "source": [
    "print('Test accuracy : {}'.format(test_accuracy.numpy()))"
   ]
  },
  {
   "cell_type": "markdown",
   "metadata": {},
   "source": [
    "### Softplus-based Model\n",
    "\n",
    "We define a 2-layer NN with Softplus activation function."
   ]
  },
  {
   "cell_type": "code",
   "execution_count": 33,
   "metadata": {},
   "outputs": [],
   "source": [
    "model = NeuralNet(\n",
    "    units=neurons,\n",
    "    activation=tf.nn.softplus,\n",
    "    initializer='he_normal',\n",
    "    num_classes=10\n",
    ")"
   ]
  },
  {
   "cell_type": "markdown",
   "metadata": {},
   "source": [
    "We train our model for 300 epochs."
   ]
  },
  {
   "cell_type": "code",
   "execution_count": 34,
   "metadata": {},
   "outputs": [
    {
     "name": "stdout",
     "output_type": "stream",
     "text": [
      "epoch 50/300 : mean loss = 44.91297149658203, mean accuracy = 0.8903579115867615\n",
      "epoch 100/300 : mean loss = 37.71559143066406, mean accuracy = 0.9074686169624329\n",
      "epoch 150/300 : mean loss = 34.804866790771484, mean accuracy = 0.9156650900840759\n",
      "epoch 200/300 : mean loss = 32.73615264892578, mean accuracy = 0.9212907552719116\n",
      "epoch 250/300 : mean loss = 31.295869827270508, mean accuracy = 0.9249966740608215\n",
      "epoch 300/300 : mean loss = 29.98644256591797, mean accuracy = 0.9279513955116272\n"
     ]
    }
   ],
   "source": [
    "softplus_performance = train(model, loss_fn, dataset, epochs=epochs)"
   ]
  },
  {
   "cell_type": "markdown",
   "metadata": {},
   "source": [
    "We produce predictions for the test data."
   ]
  },
  {
   "cell_type": "code",
   "execution_count": 35,
   "metadata": {},
   "outputs": [],
   "source": [
    "predictions = tf.nn.softmax(model(test_features))"
   ]
  },
  {
   "cell_type": "markdown",
   "metadata": {},
   "source": [
    "We compute the test accuracy."
   ]
  },
  {
   "cell_type": "code",
   "execution_count": 36,
   "metadata": {},
   "outputs": [],
   "source": [
    "accuracy = tf.metrics.Accuracy()\n",
    "test_accuracy = accuracy(tf.argmax(predictions, 1), tf.argmax(test_labels, 1))"
   ]
  },
  {
   "cell_type": "markdown",
   "metadata": {},
   "source": [
    "Check for the test accuracy."
   ]
  },
  {
   "cell_type": "code",
   "execution_count": 37,
   "metadata": {},
   "outputs": [
    {
     "name": "stdout",
     "output_type": "stream",
     "text": [
      "Test accuracy : 0.9282000064849854\n"
     ]
    }
   ],
   "source": [
    "print('Test accuracy : {}'.format(test_accuracy.numpy()))"
   ]
  },
  {
   "cell_type": "markdown",
   "metadata": {},
   "source": [
    "### ELU-based Model\n",
    "\n",
    "We define a 2-layer NN with ELU activation function."
   ]
  },
  {
   "cell_type": "code",
   "execution_count": 38,
   "metadata": {},
   "outputs": [],
   "source": [
    "model = NeuralNet(\n",
    "    units=neurons,\n",
    "    activation=tf.nn.elu,\n",
    "    initializer='he_normal',\n",
    "    num_classes=10\n",
    ")"
   ]
  },
  {
   "cell_type": "markdown",
   "metadata": {},
   "source": [
    "We train our model for 300 epochs."
   ]
  },
  {
   "cell_type": "code",
   "execution_count": 39,
   "metadata": {},
   "outputs": [
    {
     "name": "stdout",
     "output_type": "stream",
     "text": [
      "epoch 50/300 : mean loss = 38.46513748168945, mean accuracy = 0.9060162901878357\n",
      "epoch 100/300 : mean loss = 31.891250610351562, mean accuracy = 0.9221253991127014\n",
      "epoch 150/300 : mean loss = 27.939388275146484, mean accuracy = 0.9324585795402527\n",
      "epoch 200/300 : mean loss = 24.76047706604004, mean accuracy = 0.9414229393005371\n",
      "epoch 250/300 : mean loss = 22.108375549316406, mean accuracy = 0.9475494027137756\n",
      "epoch 300/300 : mean loss = 19.78851890563965, mean accuracy = 0.9525073170661926\n"
     ]
    }
   ],
   "source": [
    "elu_performance = train(model, loss_fn, dataset, epochs=epochs)"
   ]
  },
  {
   "cell_type": "markdown",
   "metadata": {},
   "source": [
    "We produce predictions for the test data."
   ]
  },
  {
   "cell_type": "code",
   "execution_count": 40,
   "metadata": {},
   "outputs": [],
   "source": [
    "predictions = tf.nn.softmax(model(test_features))"
   ]
  },
  {
   "cell_type": "markdown",
   "metadata": {},
   "source": [
    "We compute the test accuracy."
   ]
  },
  {
   "cell_type": "code",
   "execution_count": 41,
   "metadata": {},
   "outputs": [],
   "source": [
    "accuracy = tf.metrics.Accuracy()\n",
    "test_accuracy = accuracy(tf.argmax(predictions, 1), tf.argmax(test_labels, 1))"
   ]
  },
  {
   "cell_type": "markdown",
   "metadata": {},
   "source": [
    "Check for the test accuracy."
   ]
  },
  {
   "cell_type": "code",
   "execution_count": 42,
   "metadata": {},
   "outputs": [
    {
     "name": "stdout",
     "output_type": "stream",
     "text": [
      "Test accuracy : 0.9502000212669373\n"
     ]
    }
   ],
   "source": [
    "print('Test accuracy : {}'.format(test_accuracy.numpy()))"
   ]
  },
  {
   "cell_type": "markdown",
   "metadata": {},
   "source": [
    "## Training Performance\n",
    "\n",
    "We lay down the training performance of each model."
   ]
  },
  {
   "cell_type": "code",
   "execution_count": 43,
   "metadata": {},
   "outputs": [
    {
     "data": {
      "image/png": "[encoded data removed]",
      "text/plain": [
       "<Figure size 1152x576 with 2 Axes>"
      ]
     },
     "metadata": {},
     "output_type": "display_data"
    }
   ],
   "source": [
    "sns.set_style('dark', {'grid.linestyle': '--'})\n",
    "plt.figure(figsize=(16, 8))\n",
    "plt.rcParams.update({'font.size': 14})\n",
    "\n",
    "plt.subplot(121)\n",
    "plt.plot(range(len(logistic_performance[0])), logistic_performance[0], label='logistic')\n",
    "plt.plot(range(len(tanh_performance[0])), tanh_performance[0], label='tanh')\n",
    "plt.plot(range(len(relu_performance[0])), relu_performance[0], label='relu')\n",
    "plt.plot(range(len(lrelu_performance[0])), lrelu_performance[0], label='leaky_relu')\n",
    "plt.plot(range(len(softplus_performance[0])), softplus_performance[0], label='softplus')\n",
    "plt.plot(range(len(elu_performance[0])), elu_performance[0], label='elu')\n",
    "plt.xlabel('epochs')\n",
    "plt.ylabel('train accuracy')\n",
    "plt.legend(loc='lower right')\n",
    "plt.grid()\n",
    "\n",
    "plt.subplot(122)\n",
    "plt.plot(range(len(logistic_performance[1])), logistic_performance[1], label='logistic')\n",
    "plt.plot(range(len(tanh_performance[1])), tanh_performance[1], label='tanh')\n",
    "plt.plot(range(len(relu_performance[1])), relu_performance[1], label='relu')\n",
    "plt.plot(range(len(lrelu_performance[1])), lrelu_performance[1], label='leaky_relu')\n",
    "plt.plot(range(len(softplus_performance[1])), softplus_performance[1], label='softplus')\n",
    "plt.plot(range(len(elu_performance[1])), elu_performance[1], label='elu')\n",
    "plt.xlabel('epochs')\n",
    "plt.ylabel('train loss')\n",
    "plt.legend(loc='upper right')\n",
    "plt.grid()\n",
    "\n",
    "plt.suptitle('Neural Nets on MNIST with mini-batch size of 512')\n",
    "plt.savefig('mnist_experiments_512.png', dpi=300)\n",
    "plt.show()"
   ]
  }
 ],
 "metadata": {
  "kernelspec": {
   "display_name": "Python 3",
   "language": "python",
   "name": "python3"
  },
  "language_info": {
   "codemirror_mode": {
    "name": "ipython",
    "version": 3
   },
   "file_extension": ".py",
   "mimetype": "text/x-python",
   "name": "python",
   "nbconvert_exporter": "python",
   "pygments_lexer": "ipython3",
   "version": "3.7.5"
  }
 },
 "nbformat": 4,
 "nbformat_minor": 2
}
