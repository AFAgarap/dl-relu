{
 "cells": [
  {
   "cell_type": "markdown",
   "metadata": {},
   "source": [
    "Deep Learning using Rectified Linear Units (ReLU)\n",
    "===\n",
    "\n",
    "*This notebook is a part of an on-going research of the same title.*"
   ]
  },
  {
   "cell_type": "markdown",
   "metadata": {},
   "source": [
    "## Wisconsin Diagnostic Breast Cancer (WDBC) classification\n",
    "\n",
    "In which we use the WDBC dataset for evaluating our DNN-ReLU model. We first employ data preprocessing techniques such as normalization through standardization, and dimensionality reduction through principal component analysis (PCA)."
   ]
  },
  {
   "cell_type": "markdown",
   "metadata": {},
   "source": [
    "We load the WDBC dataset."
   ]
  },
  {
   "cell_type": "code",
   "execution_count": 1,
   "metadata": {},
   "outputs": [
    {
     "name": "stderr",
     "output_type": "stream",
     "text": [
      "/usr/local/lib/python3.6/dist-packages/h5py/__init__.py:36: FutureWarning: Conversion of the second argument of issubdtype from `float` to `np.floating` is deprecated. In future, it will be treated as `np.float64 == np.dtype(float).type`.\n",
      "  from ._conv import register_converters as _register_converters\n",
      "Using TensorFlow backend.\n",
      "/usr/lib/python3.6/importlib/_bootstrap.py:205: RuntimeWarning: compiletime version 3.5 of module 'tensorflow.python.framework.fast_tensor_util' does not match runtime version 3.6\n",
      "  return f(*args, **kwds)\n"
     ]
    }
   ],
   "source": [
    "from keras.utils import to_categorical\n",
    "from sklearn.datasets import load_breast_cancer"
   ]
  },
  {
   "cell_type": "code",
   "execution_count": 2,
   "metadata": {},
   "outputs": [],
   "source": [
    "features = load_breast_cancer().data\n",
    "labels = load_breast_cancer().target\n",
    "\n",
    "# one-hot encode the labels\n",
    "labels = to_categorical(labels)"
   ]
  },
  {
   "cell_type": "markdown",
   "metadata": {},
   "source": [
    "We load `numpy` for handling data, and `matplotlib` and `seaborn` for data visualization."
   ]
  },
  {
   "cell_type": "code",
   "execution_count": 3,
   "metadata": {},
   "outputs": [],
   "source": [
    "import matplotlib.pyplot as plt\n",
    "import seaborn as sns"
   ]
  },
  {
   "cell_type": "markdown",
   "metadata": {},
   "source": [
    "We split the dataset into training and testing data."
   ]
  },
  {
   "cell_type": "code",
   "execution_count": 4,
   "metadata": {},
   "outputs": [],
   "source": [
    "from sklearn.model_selection import train_test_split\n",
    "\n",
    "train_features, test_features, train_labels, test_labels = train_test_split(features, labels, test_size=0.30, stratify=labels)"
   ]
  },
  {
   "cell_type": "markdown",
   "metadata": {},
   "source": [
    "We normalize the training dataset using `StandardScaler`."
   ]
  },
  {
   "cell_type": "code",
   "execution_count": 5,
   "metadata": {},
   "outputs": [],
   "source": [
    "from sklearn.preprocessing import StandardScaler"
   ]
  },
  {
   "cell_type": "markdown",
   "metadata": {},
   "source": [
    "We fit the normalization function to the training dataset, so as to not get any information from the testing dataset."
   ]
  },
  {
   "cell_type": "code",
   "execution_count": 6,
   "metadata": {},
   "outputs": [],
   "source": [
    "scaler = StandardScaler().fit(train_features)"
   ]
  },
  {
   "cell_type": "markdown",
   "metadata": {},
   "source": [
    "After fitting the normalization function to the training dataset alone, we transform both training and testing dataset."
   ]
  },
  {
   "cell_type": "code",
   "execution_count": 7,
   "metadata": {},
   "outputs": [],
   "source": [
    "normalized_train = scaler.transform(train_features)\n",
    "normalized_test = scaler.transform(test_features)"
   ]
  },
  {
   "cell_type": "markdown",
   "metadata": {},
   "source": [
    "We list the class names for reports later."
   ]
  },
  {
   "cell_type": "code",
   "execution_count": 8,
   "metadata": {},
   "outputs": [],
   "source": [
    "class_names = ['Malignant', 'Benign']"
   ]
  },
  {
   "cell_type": "markdown",
   "metadata": {},
   "source": [
    "## 3-layer DNN + ReLU + Adam + Categorical Cross-entropy\n",
    "\n",
    "We load a feed-forward neural network with ReLU activation function in its hidden layers, and ReLU as its classifier."
   ]
  },
  {
   "cell_type": "code",
   "execution_count": 9,
   "metadata": {},
   "outputs": [],
   "source": [
    "from models.dnn_keras import DNN"
   ]
  },
  {
   "cell_type": "markdown",
   "metadata": {},
   "source": [
    "We use softmax cross-entropy for loss function, and Adam as optimization algorithm."
   ]
  },
  {
   "cell_type": "code",
   "execution_count": 10,
   "metadata": {},
   "outputs": [
    {
     "name": "stdout",
     "output_type": "stream",
     "text": [
      "<log> Building graph...\n",
      "_________________________________________________________________\n",
      "Layer (type)                 Output Shape              Param #   \n",
      "=================================================================\n",
      "dense_1 (Dense)              (None, 128)               3968      \n",
      "_________________________________________________________________\n",
      "dropout_1 (Dropout)          (None, 128)               0         \n",
      "_________________________________________________________________\n",
      "dense_2 (Dense)              (None, 64)                8256      \n",
      "_________________________________________________________________\n",
      "dropout_2 (Dropout)          (None, 64)                0         \n",
      "_________________________________________________________________\n",
      "dense_3 (Dense)              (None, 32)                2080      \n",
      "_________________________________________________________________\n",
      "dropout_3 (Dropout)          (None, 32)                0         \n",
      "_________________________________________________________________\n",
      "dense_4 (Dense)              (None, 2)                 66        \n",
      "=================================================================\n",
      "Total params: 14,370\n",
      "Trainable params: 14,370\n",
      "Non-trainable params: 0\n",
      "_________________________________________________________________\n",
      "None\n",
      "</log>\n"
     ]
    }
   ],
   "source": [
    "model = DNN(activation='relu',\n",
    "            classifier='relu',\n",
    "            dropout_rate=0.1,\n",
    "            loss='categorical_crossentropy',\n",
    "            optimizer='adam',\n",
    "            num_classes=train_labels.shape[1],\n",
    "            num_features=train_features.shape[1],\n",
    "            num_neurons=[128, 64, 32],\n",
    "            return_summary=True)"
   ]
  },
  {
   "cell_type": "markdown",
   "metadata": {},
   "source": [
    "Train on batch size of $256$, with 10-fold cross validation, with each fold running 32 epochs."
   ]
  },
  {
   "cell_type": "code",
   "execution_count": 11,
   "metadata": {},
   "outputs": [
    {
     "name": "stdout",
     "output_type": "stream",
     "text": [
      "loss : 0.6166618824005127, acc : 0.625\n",
      "loss : 0.3112059235572815, acc : 0.85\n",
      "loss : 0.1720331698656082, acc : 0.95\n",
      "loss : 0.23822111487388611, acc : 0.925\n",
      "loss : 0.22271109223365784, acc : 0.95\n",
      "loss : 0.41848061680793763, acc : 0.85\n",
      "loss : 0.35333064794540403, acc : 0.825\n",
      "loss : 0.13550923466682435, acc : 1.0\n",
      "loss : 0.14690193304648766, acc : 0.9230769246052473\n",
      "loss : 0.29689344610923374, acc : 0.8974358989642217\n",
      "==========\n",
      "CV acc : 0.8795512823569469, CV stddev : +/- 0.09911236982884873\n"
     ]
    }
   ],
   "source": [
    "model.train(batch_size=256,\n",
    "            n_splits=10,\n",
    "            epochs=32,\n",
    "            validation_split=0.,\n",
    "            verbose=0,\n",
    "            train_features=train_features,\n",
    "            train_labels=train_labels)"
   ]
  },
  {
   "cell_type": "markdown",
   "metadata": {},
   "source": [
    "Evaluate the trained DNN-ReLU model."
   ]
  },
  {
   "cell_type": "code",
   "execution_count": 12,
   "metadata": {},
   "outputs": [
    {
     "name": "stdout",
     "output_type": "stream",
     "text": [
      "171/171 [==============================] - 0s 124us/step\n",
      "Test loss : 0.30504661467340255\n",
      "Test accuracy : 0.9064327502808376\n"
     ]
    }
   ],
   "source": [
    "report, confusion_matrix = model.evaluate(batch_size=256,\n",
    "                                          test_features=test_features,\n",
    "                                          test_labels=test_labels,\n",
    "                                          class_names=class_names)"
   ]
  },
  {
   "cell_type": "markdown",
   "metadata": {},
   "source": [
    "Print the classification report which consists of the precision, recall, and f1-score for each class."
   ]
  },
  {
   "cell_type": "code",
   "execution_count": 13,
   "metadata": {},
   "outputs": [
    {
     "name": "stdout",
     "output_type": "stream",
     "text": [
      "             precision    recall  f1-score   support\n",
      "\n",
      "  Malignant       0.98      0.77      0.86        64\n",
      "     Benign       0.88      0.99      0.93       107\n",
      "\n",
      "avg / total       0.91      0.91      0.90       171\n",
      "\n"
     ]
    }
   ],
   "source": [
    "print(report)"
   ]
  },
  {
   "cell_type": "markdown",
   "metadata": {},
   "source": [
    "Print the confusion matrix for the predicted labels on the Fashion-MNIST test dataset."
   ]
  },
  {
   "cell_type": "code",
   "execution_count": 14,
   "metadata": {},
   "outputs": [
    {
     "data": {
      "text/plain": [
       "<matplotlib.axes._subplots.AxesSubplot at 0x7f9244072c88>"
      ]
     },
     "execution_count": 14,
     "metadata": {},
     "output_type": "execute_result"
    },
    {
     "data": {
      "image/png": "[encoded data removed]",
      "text/plain": [
       "<matplotlib.figure.Figure at 0x7f92440a4668>"
      ]
     },
     "metadata": {},
     "output_type": "display_data"
    }
   ],
   "source": [
    "plt.figure(figsize=(10, 10))\n",
    "sns.heatmap(confusion_matrix, annot=True, annot_kws={'size': 12}, fmt='.2f')"
   ]
  },
  {
   "cell_type": "markdown",
   "metadata": {},
   "source": [
    "## 3-layer DNN + Softmax + Adam + Categorical Cross-entropy\n",
    "\n",
    "We load a feed-forward neural network with ReLU activation function in its hidden layers."
   ]
  },
  {
   "cell_type": "code",
   "execution_count": 15,
   "metadata": {},
   "outputs": [],
   "source": [
    "from models.dnn_keras import DNN"
   ]
  },
  {
   "cell_type": "markdown",
   "metadata": {},
   "source": [
    "We use softmax cross-entropy for loss function, and Adam as optimization algorithm, and the conventional softmax classifier."
   ]
  },
  {
   "cell_type": "code",
   "execution_count": 16,
   "metadata": {},
   "outputs": [
    {
     "name": "stdout",
     "output_type": "stream",
     "text": [
      "<log> Building graph...\n",
      "_________________________________________________________________\n",
      "Layer (type)                 Output Shape              Param #   \n",
      "=================================================================\n",
      "dense_5 (Dense)              (None, 128)               3968      \n",
      "_________________________________________________________________\n",
      "dropout_4 (Dropout)          (None, 128)               0         \n",
      "_________________________________________________________________\n",
      "dense_6 (Dense)              (None, 64)                8256      \n",
      "_________________________________________________________________\n",
      "dropout_5 (Dropout)          (None, 64)                0         \n",
      "_________________________________________________________________\n",
      "dense_7 (Dense)              (None, 32)                2080      \n",
      "_________________________________________________________________\n",
      "dropout_6 (Dropout)          (None, 32)                0         \n",
      "_________________________________________________________________\n",
      "dense_8 (Dense)              (None, 2)                 66        \n",
      "=================================================================\n",
      "Total params: 14,370\n",
      "Trainable params: 14,370\n",
      "Non-trainable params: 0\n",
      "_________________________________________________________________\n",
      "None\n",
      "</log>\n"
     ]
    }
   ],
   "source": [
    "model = DNN(activation='relu',\n",
    "            classifier='softmax',\n",
    "            dropout_rate=0.1,\n",
    "            loss='categorical_crossentropy',\n",
    "            optimizer='adam',\n",
    "            num_classes=train_labels.shape[1],\n",
    "            num_features=train_features.shape[1],\n",
    "            num_neurons=[128, 64, 32],\n",
    "            return_summary=True)"
   ]
  },
  {
   "cell_type": "markdown",
   "metadata": {},
   "source": [
    "Train on batch size of $256$, with 10-fold cross validation, with each fold running 32 epochs."
   ]
  },
  {
   "cell_type": "code",
   "execution_count": 17,
   "metadata": {},
   "outputs": [
    {
     "name": "stdout",
     "output_type": "stream",
     "text": [
      "loss : 1.7302509784698485, acc : 0.875\n",
      "loss : 1.039413857460025, acc : 0.9\n",
      "loss : 0.40295250415802286, acc : 0.975\n",
      "loss : 1.7225996017456056, acc : 0.875\n",
      "loss : 1.986456799809821, acc : 0.875\n",
      "loss : 0.7291283845901517, acc : 0.925\n",
      "loss : 0.3670554876327515, acc : 0.875\n",
      "loss : 0.12326986789703369, acc : 1.0\n",
      "loss : 0.18150603618377295, acc : 0.9230769246052473\n",
      "loss : 0.2529954428856189, acc : 0.8974358989642217\n",
      "==========\n",
      "CV acc : 0.9120512823569469, CV stddev : +/- 0.04223361812453362\n"
     ]
    }
   ],
   "source": [
    "model.train(batch_size=256,\n",
    "            n_splits=10,\n",
    "            epochs=32,\n",
    "            validation_split=0.,\n",
    "            verbose=0,\n",
    "            train_features=train_features,\n",
    "            train_labels=train_labels)"
   ]
  },
  {
   "cell_type": "markdown",
   "metadata": {},
   "source": [
    "Evaluate the trained DNN-ReLU model."
   ]
  },
  {
   "cell_type": "code",
   "execution_count": 18,
   "metadata": {},
   "outputs": [
    {
     "name": "stdout",
     "output_type": "stream",
     "text": [
      "171/171 [==============================] - 0s 91us/step\n",
      "Test loss : 0.23953434336952298\n",
      "Test accuracy : 0.9239766081871345\n"
     ]
    }
   ],
   "source": [
    "report, confusion_matrix = model.evaluate(batch_size=256,\n",
    "                                          test_features=test_features,\n",
    "                                          test_labels=test_labels,\n",
    "                                          class_names=class_names)"
   ]
  },
  {
   "cell_type": "markdown",
   "metadata": {},
   "source": [
    "Print the classification report which consists of the precision, recall, and f1-score for each class."
   ]
  },
  {
   "cell_type": "code",
   "execution_count": 19,
   "metadata": {},
   "outputs": [
    {
     "name": "stdout",
     "output_type": "stream",
     "text": [
      "             precision    recall  f1-score   support\n",
      "\n",
      "  Malignant       0.93      0.86      0.89        64\n",
      "     Benign       0.92      0.96      0.94       107\n",
      "\n",
      "avg / total       0.92      0.92      0.92       171\n",
      "\n"
     ]
    }
   ],
   "source": [
    "print(report)"
   ]
  },
  {
   "cell_type": "markdown",
   "metadata": {},
   "source": [
    "Print the confusion matrix for the predicted labels on the Fashion-MNIST test dataset."
   ]
  },
  {
   "cell_type": "code",
   "execution_count": 20,
   "metadata": {},
   "outputs": [
    {
     "data": {
      "text/plain": [
       "<matplotlib.axes._subplots.AxesSubplot at 0x7f9230075780>"
      ]
     },
     "execution_count": 20,
     "metadata": {},
     "output_type": "execute_result"
    },
    {
     "data": {
      "image/png": "[encoded data removed]",
      "text/plain": [
       "<matplotlib.figure.Figure at 0x7f92300700f0>"
      ]
     },
     "metadata": {},
     "output_type": "display_data"
    }
   ],
   "source": [
    "plt.figure(figsize=(10, 10))\n",
    "sns.heatmap(confusion_matrix, annot=True, annot_kws={'size': 12}, fmt='.2f')"
   ]
  }
 ],
 "metadata": {
  "kernelspec": {
   "display_name": "Python 3",
   "language": "python",
   "name": "python3"
  },
  "language_info": {
   "codemirror_mode": {
    "name": "ipython",
    "version": 3
   },
   "file_extension": ".py",
   "mimetype": "text/x-python",
   "name": "python",
   "nbconvert_exporter": "python",
   "pygments_lexer": "ipython3",
   "version": "3.6.2"
  }
 },
 "nbformat": 4,
 "nbformat_minor": 2
}
